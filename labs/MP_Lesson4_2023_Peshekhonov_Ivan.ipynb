{
 "cells": [
  {
   "attachments": {},
   "cell_type": "markdown",
   "metadata": {
    "id": "-3Pdn9L2qjFM"
   },
   "source": [
    "### Указания к работе\n",
    "\n",
    "- Использовать MRJob\n",
    "- полезно почитать: https://coderlessons.com/tutorials/bolshie-dannye-i-analitika/izuchit-kartu-umenshit/mapreduce-kratkoe-rukovodstvo \n",
    "- Подсказки к 4 и 5 тут - https://www.slideshare.net/Technopark/lecture-05-48215737"
   ]
  },
  {
   "cell_type": "code",
   "execution_count": null,
   "metadata": {},
   "outputs": [],
   "source": [
    "%pip install mrjob\n",
    "!mkdir -p temp"
   ]
  },
  {
   "attachments": {},
   "cell_type": "markdown",
   "metadata": {
    "id": "zDraPGe0rA5X"
   },
   "source": [
    "### Упражнение 1"
   ]
  },
  {
   "cell_type": "markdown",
   "metadata": {},
   "source": [
    "#### Задача\n",
    "\n",
    "Дан файл с числами (несколько строк, на которых через пробел расположены числа). Посчитать сумму всех чисел в файле (построчно через MRJob).\n",
    "\n",
    "Пример:\n",
    "\n",
    "```\n",
    "1 2 3\n",
    "4 5\n",
    "6\n",
    "```\n",
    "\n",
    "Вывод:\n",
    "\n",
    "```\n",
    "21\n",
    "```\n"
   ]
  },
  {
   "cell_type": "markdown",
   "metadata": {},
   "source": [
    "#### Решение"
   ]
  },
  {
   "cell_type": "code",
   "execution_count": 49,
   "metadata": {},
   "outputs": [
    {
     "name": "stdout",
     "output_type": "stream",
     "text": [
      "Overwriting temp/l4_t1.py\n"
     ]
    }
   ],
   "source": [
    "%%writefile temp/l4_t1.py\n",
    "from mrjob.job import MRJob\n",
    "from mrjob.protocol import TextValueProtocol\n",
    "\n",
    "\n",
    "class MisterJob(MRJob):\n",
    "    OUTPUT_PROTOCOL = TextValueProtocol\n",
    "\n",
    "    def mapper(self, _, line):\n",
    "        yield from [(None, float(num)) for num in line.split()]\n",
    "\n",
    "    def reducer(self, _, values):\n",
    "        yield \"sum\", str(sum(values))\n",
    "\n",
    "\n",
    "if __name__ == '__main__':\n",
    "    MisterJob.run()\n"
   ]
  },
  {
   "cell_type": "code",
   "execution_count": 50,
   "metadata": {},
   "outputs": [
    {
     "name": "stdout",
     "output_type": "stream",
     "text": [
      "Writing temp/l4_t1.txt\n"
     ]
    }
   ],
   "source": [
    "%%writefile temp/l4_t1.txt\n",
    "9.9 8 7 6\n",
    "5 4 3\n",
    "2 1\n",
    "0"
   ]
  },
  {
   "cell_type": "code",
   "execution_count": 51,
   "metadata": {},
   "outputs": [
    {
     "name": "stdout",
     "output_type": "stream",
     "text": [
      "45.9\n"
     ]
    }
   ],
   "source": [
    "!python temp/l4_t1.py -q temp/l4_t1.txt"
   ]
  },
  {
   "attachments": {},
   "cell_type": "markdown",
   "metadata": {
    "id": "2wibRQQprQ0p"
   },
   "source": [
    "### Упражнение 2"
   ]
  },
  {
   "attachments": {},
   "cell_type": "markdown",
   "metadata": {},
   "source": [
    "#### Задача \n",
    "\n",
    "Дан файл с числами (несколько строк, на которых через пробел расположены числа). Посчитать сумму чисел в файле в каждой строке, а еще и их среднее (построчно через MRJob).\n",
    "\n",
    "Пример:\n",
    "\n",
    "\n",
    "```\n",
    "1 2 3\n",
    "4 5\n",
    "6\n",
    "```\n",
    "\n",
    "Вывод:\n",
    "\n",
    "```\n",
    "6, 2\n",
    "9, 4.5\n",
    "6, 6\n",
    "```"
   ]
  },
  {
   "cell_type": "markdown",
   "metadata": {},
   "source": [
    "#### Решение"
   ]
  },
  {
   "cell_type": "code",
   "execution_count": 32,
   "metadata": {},
   "outputs": [
    {
     "name": "stdout",
     "output_type": "stream",
     "text": [
      "Overwriting temp/l4_t2.py\n"
     ]
    }
   ],
   "source": [
    "%%writefile temp/l4_t2.py\n",
    "from mrjob.job import MRJob\n",
    "from mrjob.step import MRStep\n",
    "from mrjob.protocol import TextValueProtocol\n",
    "\n",
    "line_num = 0\n",
    "\n",
    "\n",
    "def format_float(f: float) -> str:\n",
    "    return \"%d\" % f if f.is_integer() else str(f)\n",
    "\n",
    "\n",
    "class MisterJob(MRJob):\n",
    "    OUTPUT_PROTOCOL = TextValueProtocol\n",
    "\n",
    "    def steps(self):\n",
    "        return [\n",
    "            MRStep(\n",
    "                mapper=self.mapper_extract_numbers,\n",
    "                reducer=self.reducer_calc_stats\n",
    "            ),\n",
    "            MRStep(\n",
    "                reducer=self.reducer_sort_stats\n",
    "            )\n",
    "        ]\n",
    "\n",
    "    def mapper_extract_numbers(self, _, line):\n",
    "        global line_num\n",
    "        line_num += 1\n",
    "        yield from [(line_num, float(i)) for i in line.split()]\n",
    "\n",
    "    def reducer_calc_stats(self, key, values):\n",
    "        values = list(values)\n",
    "        s, l = sum(values), len(values)\n",
    "        avg = s / l\n",
    "        yield None, (key, f\"{s}, {format_float(avg)}\")\n",
    "\n",
    "    def reducer_sort_stats(self, _, values):\n",
    "        yield from sorted(values, key=lambda v: v[0])\n",
    "\n",
    "\n",
    "if __name__ == '__main__':\n",
    "    MisterJob.run()"
   ]
  },
  {
   "cell_type": "code",
   "execution_count": 52,
   "metadata": {},
   "outputs": [
    {
     "name": "stdout",
     "output_type": "stream",
     "text": [
      "Writing temp/l4_t2.txt\n"
     ]
    }
   ],
   "source": [
    "%%writefile temp/l4_t2.txt\n",
    "9.9 8 7 6\n",
    "5 4 3\n",
    "2 1\n",
    "0"
   ]
  },
  {
   "cell_type": "code",
   "execution_count": 53,
   "metadata": {},
   "outputs": [
    {
     "name": "stdout",
     "output_type": "stream",
     "text": [
      "30.9, 7.725\n",
      "12.0, 4\n",
      "3.0, 1.5\n",
      "0.0, 0\n"
     ]
    }
   ],
   "source": [
    "!python temp/l4_t2.py -q temp/l4_t2.txt"
   ]
  },
  {
   "attachments": {},
   "cell_type": "markdown",
   "metadata": {
    "id": "w61rR9qytUKy"
   },
   "source": [
    "### Упражнение 3"
   ]
  },
  {
   "attachments": {},
   "cell_type": "markdown",
   "metadata": {},
   "source": [
    "#### Задача\n",
    "\n",
    "Дан файл со стоками, в каждой строке слова через пробел. Посчитать самую частую букву.\n",
    "\n",
    "Пример:\n",
    "\n",
    "```\n",
    "aaa bb c\n",
    "aaa bb\n",
    "aaa\n",
    "```\n",
    "\n",
    "Вывод:\n",
    "\n",
    "```\n",
    "9 a\n",
    "```"
   ]
  },
  {
   "cell_type": "markdown",
   "metadata": {},
   "source": [
    "#### Решение"
   ]
  },
  {
   "cell_type": "code",
   "execution_count": 40,
   "metadata": {},
   "outputs": [
    {
     "name": "stdout",
     "output_type": "stream",
     "text": [
      "Overwriting temp/l4_t3.py\n"
     ]
    }
   ],
   "source": [
    "%%writefile temp/l4_t3.py\n",
    "from mrjob.job import MRJob\n",
    "from mrjob.step import MRStep\n",
    "from mrjob.protocol import TextValueProtocol\n",
    "\n",
    "\n",
    "class MisterJob(MRJob):\n",
    "    OUTPUT_PROTOCOL = TextValueProtocol\n",
    "\n",
    "    def steps(self):\n",
    "        return [\n",
    "            MRStep(\n",
    "                mapper=self.mapper_extract_chars,\n",
    "                reducer=self.reducer_count_chars\n",
    "            ),\n",
    "            MRStep(\n",
    "                reducer=self.reducer_find_most_common\n",
    "            )\n",
    "        ]\n",
    "\n",
    "    def mapper_extract_chars(self, _, line):\n",
    "        for word in line.split():\n",
    "            yield from [(ch, 1) for ch in word]\n",
    "\n",
    "    def reducer_count_chars(self, key, values):\n",
    "        yield None, (key, sum(values))\n",
    "\n",
    "    def reducer_find_most_common(self, _, values):\n",
    "        ch, count = max(values, key=lambda v: v[1])\n",
    "        yield None, f\"{count} {ch}\"\n",
    "\n",
    "\n",
    "if __name__ == '__main__':\n",
    "    MisterJob.run()"
   ]
  },
  {
   "cell_type": "code",
   "execution_count": 54,
   "metadata": {},
   "outputs": [
    {
     "name": "stdout",
     "output_type": "stream",
     "text": [
      "Writing temp/l4_t3.txt\n"
     ]
    }
   ],
   "source": [
    "%%writefile temp/l4_t3.txt\n",
    "aaa bb c\n",
    "aaa bb\n",
    "aaa"
   ]
  },
  {
   "cell_type": "code",
   "execution_count": 55,
   "metadata": {},
   "outputs": [
    {
     "name": "stdout",
     "output_type": "stream",
     "text": [
      "9 a\n"
     ]
    }
   ],
   "source": [
    "!python temp/l4_t3.py -q temp/l4_t3.txt"
   ]
  },
  {
   "attachments": {},
   "cell_type": "markdown",
   "metadata": {
    "id": "urOkwmlBrhFr"
   },
   "source": [
    "### Упражнение 4.\n"
   ]
  },
  {
   "attachments": {},
   "cell_type": "markdown",
   "metadata": {},
   "source": [
    "#### Задача\n",
    "\n",
    "Есть множество записей. Каждая запись содержит поле F и производное число категорий G={G1, G2,...}\n",
    "Посчитать общее число уникальных значений поля F для каждой категории.\n",
    "\n",
    "Пример:\n",
    "\n",
    "```\n",
    "Record1: F = 1, G = {a, b}\n",
    "Record2: F = 2, G = {a, d, e}\n",
    "Record3: F = 1, G = {b}\n",
    "Record4: F = 13, G = {a, b}\n",
    "```\n",
    "\n",
    "Result:\n",
    "\n",
    "```\n",
    "a -> 3 // F =1, F=2, F=3\n",
    "b -> 2 // F =1, F=3\n",
    "d -> 1 // F =2\n",
    "e -> 1 // F =2\n",
    "```"
   ]
  },
  {
   "cell_type": "markdown",
   "metadata": {},
   "source": [
    "\n",
    "#### Решение"
   ]
  },
  {
   "cell_type": "code",
   "execution_count": 42,
   "metadata": {},
   "outputs": [
    {
     "name": "stdout",
     "output_type": "stream",
     "text": [
      "Writing temp/l4_t4.py\n"
     ]
    }
   ],
   "source": [
    "%%writefile temp/l4_t4.py\n",
    "import re\n",
    "from mrjob.job import MRJob\n",
    "from mrjob.protocol import TextValueProtocol\n",
    "\n",
    "record_re = re.compile(r'Record\\d+: F = (\\d+), G = {(.*?)}')\n",
    "g_re = re.compile(r'(?:, )?([a-z]+)')\n",
    "\n",
    "\n",
    "class MisterJob(MRJob):\n",
    "    OUTPUT_PROTOCOL = TextValueProtocol\n",
    "\n",
    "    def mapper(self, _, line):\n",
    "        value, categories_str = record_re.findall(line)[0]\n",
    "        categories = g_re.findall(categories_str)\n",
    "        for c in categories:\n",
    "            yield c, int(value)\n",
    "\n",
    "    def reducer(self, key, values):\n",
    "        values = list(values)\n",
    "        fields = \", \".join([f'F={v}' for v in values])\n",
    "        yield key, f'{key} -> {len(values)} // {fields}'\n",
    "\n",
    "\n",
    "if __name__ == '__main__':\n",
    "    MisterJob.run()\n"
   ]
  },
  {
   "cell_type": "code",
   "execution_count": 69,
   "metadata": {},
   "outputs": [
    {
     "name": "stdout",
     "output_type": "stream",
     "text": [
      "Writing temp/l4_t4.txt\n"
     ]
    }
   ],
   "source": [
    "%%writefile temp/l4_t4.txt\n",
    "Record1: F = 1, G = {a, b}\n",
    "Record2: F = 2, G = {a, d, e}\n",
    "Record3: F = 1, G = {b}\n",
    "Record4: F = 13, G = {a, b}"
   ]
  },
  {
   "cell_type": "code",
   "execution_count": 71,
   "metadata": {},
   "outputs": [
    {
     "name": "stdout",
     "output_type": "stream",
     "text": [
      "b -> 3 // F=1, F=1, F=13\n",
      "d -> 1 // F=2\n",
      "a -> 3 // F=1, F=2, F=13\n",
      "e -> 1 // F=2\n"
     ]
    }
   ],
   "source": [
    "!python temp/l4_t4.py -q temp/l4_t4.txt"
   ]
  },
  {
   "attachments": {},
   "cell_type": "markdown",
   "metadata": {
    "id": "dbO0vz57srVD"
   },
   "source": [
    "### Упражнение 5"
   ]
  },
  {
   "attachments": {},
   "cell_type": "markdown",
   "metadata": {},
   "source": [
    "\n",
    "#### Задача\n",
    "\n",
    "Есть множество кортежей объектов. Для каждой возможной пары объектов посчитать число картежей, где они встретились вместе. Если число объектов N, то N\\*N объектов будет обработано. Если N\\*N небольшое, то можно построить матрицу в памяти и реализация довольно простая.\n"
   ]
  },
  {
   "attachments": {},
   "cell_type": "markdown",
   "metadata": {},
   "source": [
    "#### Решение\n",
    "\n",
    "Данное решение предполагает, что объекты представлены в виде строковых имен, а кортеж объектов является последовательностью таких имен, разделенных пробелами."
   ]
  },
  {
   "cell_type": "code",
   "execution_count": 47,
   "metadata": {},
   "outputs": [
    {
     "name": "stdout",
     "output_type": "stream",
     "text": [
      "Overwriting temp/l4_t5.py\n"
     ]
    }
   ],
   "source": [
    "%%writefile temp/l4_t5.py\n",
    "from enum import Enum\n",
    "from mrjob.job import MRJob\n",
    "from mrjob.step import MRStep\n",
    "from mrjob.protocol import TextValueProtocol\n",
    "\n",
    "\n",
    "class EventTypes(str, Enum):\n",
    "    NEW_NAME = 'NEW_NAME'\n",
    "    NEW_PAIR = 'NEW_PAIR'\n",
    "\n",
    "\n",
    "class MisterJob(MRJob):\n",
    "    OUTPUT_PROTOCOL = TextValueProtocol\n",
    "\n",
    "    def steps(self):\n",
    "        return [\n",
    "            MRStep(\n",
    "                mapper=self.mapper_emit_objects_and_pairs,\n",
    "                reducer=self.reducer_merge_all_events,\n",
    "            ),\n",
    "            MRStep(\n",
    "                reducer=self.reducer_handle_all_events,\n",
    "            )\n",
    "        ]\n",
    "\n",
    "    def mapper_emit_objects_and_pairs(self, _, line):\n",
    "        names = line.split()\n",
    "        for i, n1 in enumerate(names):\n",
    "            yield EventTypes.NEW_NAME, n1\n",
    "            for j, n2 in enumerate(names):\n",
    "                if i > j:\n",
    "                    yield EventTypes.NEW_PAIR, (n1, n2)\n",
    "\n",
    "    def reducer_merge_all_events(self, event_type, values):\n",
    "        yield None, (event_type, list(values))\n",
    "\n",
    "    def reducer_handle_all_events(self, _, events):\n",
    "        events = list(events)\n",
    "\n",
    "        names = next((sorted(set(v))\n",
    "                      for t, v in events if t == EventTypes.NEW_NAME), [])\n",
    "        pairs = next((v\n",
    "                      for t, v in events if t == EventTypes.NEW_PAIR), [])\n",
    "\n",
    "        matrix = {n: {n: 0 for n in names} for n in names}\n",
    "        for n1, n2 in pairs:\n",
    "            matrix[n1][n2] += 1\n",
    "            if n1 != n2:\n",
    "                matrix[n2][n1] += 1\n",
    "\n",
    "        header = \"||%s|\" % \"|\".join(names)\n",
    "\n",
    "        divider = \"|%s|\" % \"|\".join([\":-:\"] * (len(names) + 1))\n",
    "\n",
    "        matrix_rows = [\n",
    "            \"|%s|%s|\" % (name, \"|\".join(map(str, row.values())))\n",
    "            for name, row in matrix.items()\n",
    "        ]\n",
    "\n",
    "        result = \"\\n\".join([\n",
    "            header,\n",
    "            divider,\n",
    "            *matrix_rows\n",
    "        ])\n",
    "\n",
    "        yield None, result\n",
    "\n",
    "\n",
    "if __name__ == '__main__':\n",
    "    MisterJob.run()\n"
   ]
  },
  {
   "cell_type": "code",
   "execution_count": 63,
   "metadata": {},
   "outputs": [
    {
     "name": "stdout",
     "output_type": "stream",
     "text": [
      "Writing temp/l4_t5.txt\n"
     ]
    }
   ],
   "source": [
    "%%writefile temp/l4_t5.txt\n",
    "grass cow grass grass\n",
    "grass grass\n",
    "flower grass grass\n",
    "cow flower cow\n",
    "grass grass grass"
   ]
  },
  {
   "cell_type": "code",
   "execution_count": 67,
   "metadata": {},
   "outputs": [
    {
     "data": {
      "text/markdown": [
       "||cow|flower|grass|\n",
       "|:-:|:-:|:-:|:-:|\n",
       "|cow|1|2|3|\n",
       "|flower|2|0|2|\n",
       "|grass|3|2|8|\n"
      ],
      "text/plain": [
       "<IPython.core.display.Markdown object>"
      ]
     },
     "metadata": {},
     "output_type": "display_data"
    }
   ],
   "source": [
    "!python temp/l4_t5.py -q temp/l4_t5.txt > ./temp/l4_t5.md\n",
    "from IPython.display import display, Markdown\n",
    "display(Markdown(\"./temp/l4_t5.md\"))"
   ]
  }
 ],
 "metadata": {
  "colab": {
   "provenance": []
  },
  "kernelspec": {
   "display_name": "parallel-l4y-9m4T",
   "language": "python",
   "name": "python3"
  },
  "language_info": {
   "codemirror_mode": {
    "name": "ipython",
    "version": 3
   },
   "file_extension": ".py",
   "mimetype": "text/x-python",
   "name": "python",
   "nbconvert_exporter": "python",
   "pygments_lexer": "ipython3",
   "version": "3.10.6"
  },
  "vscode": {
   "interpreter": {
    "hash": "099e1763dd720d780daa398c2b0abafeab1bfb3c4a11113538f5ee74518813c6"
   }
  }
 },
 "nbformat": 4,
 "nbformat_minor": 1
}
