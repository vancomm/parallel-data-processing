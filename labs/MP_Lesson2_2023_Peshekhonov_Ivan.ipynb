{
 "cells": [
  {
   "cell_type": "markdown",
   "metadata": {
    "id": "CwLUwf40bp0N"
   },
   "source": [
    "**Упражнение 1.** Запустите код. Попробуйте объяснить, почему LIST - пуст."
   ]
  },
  {
   "cell_type": "code",
   "execution_count": 10,
   "metadata": {
    "colab": {
     "base_uri": "https://localhost:8080/"
    },
    "id": "SqJJ3y7iPq41",
    "outputId": "55d7bf71-049f-499a-9466-40ecff4553cc"
   },
   "outputs": [
    {
     "name": "stdout",
     "output_type": "stream",
     "text": [
      "[]\n"
     ]
    }
   ],
   "source": [
    "import multiprocessing\n",
    "\n",
    "def worker():\n",
    "    LIST.append('item')\n",
    "\n",
    "LIST = []\n",
    "\n",
    "if __name__ == \"__main__\":\n",
    "    processes = [\n",
    "        multiprocessing.Process(target=worker)\n",
    "        for _ in range(5)\n",
    "    ]\n",
    "    for p in processes:\n",
    "        p.start()\n",
    "    for p in processes:\n",
    "        p.join()\n",
    "    print(LIST)"
   ]
  },
  {
   "attachments": {},
   "cell_type": "markdown",
   "metadata": {},
   "source": [
    "**Объяснение:**\n",
    "\n",
    "В отличие от потоков, процессы обладают собственной областью памяти и не имеют доступа к памяти родительского процесса. По этой причине код, запущенный с помощью `multiprocessing.Process` не сможет мутировать список `LIST`. Ниже приведен код, реализованный на потоках, который приводит к ожидаемому результату (массив `LIST` наполняется 5 элементами)."
   ]
  },
  {
   "cell_type": "code",
   "execution_count": 23,
   "metadata": {},
   "outputs": [
    {
     "name": "stdout",
     "output_type": "stream",
     "text": [
      "['item', 'item', 'item', 'item', 'item']\n"
     ]
    }
   ],
   "source": [
    "import threading\n",
    "\n",
    "def worker():\n",
    "    LIST.append('item')\n",
    "\n",
    "LIST = []\n",
    "\n",
    "if __name__ == '__main__':\n",
    "    threads = [threading.Thread(target=worker) for _ in range(5)]\n",
    "    for t in threads:\n",
    "        t.start()\n",
    "    for t in threads:\n",
    "        t.join()\n",
    "    print(LIST)"
   ]
  },
  {
   "cell_type": "markdown",
   "metadata": {
    "id": "xAmgzVjNb5tx"
   },
   "source": [
    "**Упражнение 2.** Запустите код. Какая проблема здесь возникает? Исправьте её."
   ]
  },
  {
   "cell_type": "code",
   "execution_count": 20,
   "metadata": {
    "colab": {
     "base_uri": "https://localhost:8080/"
    },
    "id": "LzTaS___btJO",
    "outputId": "472ca52b-f2bf-4b34-99b0-d64a69a411eb"
   },
   "outputs": [
    {
     "name": "stdout",
     "output_type": "stream",
     "text": [
      "thread t1 about to lock l1\n",
      "thread t1 has lock l1\n",
      "thread t2 about to lock l2\n",
      "thread t1 about to lock l2\n",
      "thread t1\n",
      "thread t2 has lock l2\n",
      "thread t2 about to lock l1\n",
      "thread t2\n"
     ]
    }
   ],
   "source": [
    "import threading\n",
    "import time\n",
    "\n",
    "l1 = threading.Lock()\n",
    "l2 = threading.Lock()\n",
    "\n",
    "def f1(name):\n",
    "    print('thread',name,'about to lock l1')\n",
    "    with l1:\n",
    "        print('thread',name,'has lock l1')\n",
    "        time.sleep(0.3)\n",
    "        print('thread',name,'about to lock l2')\n",
    "        with l2:\n",
    "            print('thread',name)\n",
    "\n",
    "def f2(name):\n",
    "    print('thread',name,'about to lock l2')\n",
    "    with l1:\n",
    "        print('thread',name,'has lock l2')\n",
    "        time.sleep(0.3)\n",
    "        print('thread',name,'about to lock l1')\n",
    "        with l2:\n",
    "            print('thread',name)\n",
    "\n",
    "if __name__ == '__main__':\n",
    "    t1=threading.Thread(target=f1, args=['t1',])\n",
    "    t2=threading.Thread(target=f2, args=['t2',])\n",
    "\n",
    "    t1.start()\n",
    "    t2.start()\n",
    "\n",
    "    t1.join()\n",
    "    t2.join()"
   ]
  },
  {
   "attachments": {},
   "cell_type": "markdown",
   "metadata": {},
   "source": [
    "**Объяснение:**\n",
    "\n",
    "Код, приведенный в упражнении, работает \"как надо\", т.е. оба процесса успешно выполняют все свои операции и в программе не возникает взаимных блокировок. Тем не менее, в целях выполнения данной лабораторной работы, можно представить альтернативную ситуацию, в которой порядок захвата мьютексов отличается между потоками. Код, описывающий такую ситуацию, приведен ниже. Обратите внимание, что этот выполнение этого кода никогда не закончится из-за возникающей в нем взаимной блокировки."
   ]
  },
  {
   "cell_type": "code",
   "execution_count": 21,
   "metadata": {},
   "outputs": [
    {
     "name": "stdout",
     "output_type": "stream",
     "text": [
      "thread t1 about to lock l1\n",
      "thread t1 has lock l1\n",
      "thread t2 about to lock l2\n",
      "thread t2 has lock l2\n",
      "thread t1 about to lock l2\n",
      "thread t2 about to lock l1\n"
     ]
    },
    {
     "ename": "KeyboardInterrupt",
     "evalue": "",
     "output_type": "error",
     "traceback": [
      "\u001b[0;31m---------------------------------------------------------------------------\u001b[0m",
      "\u001b[0;31mKeyboardInterrupt\u001b[0m                         Traceback (most recent call last)",
      "Cell \u001b[0;32mIn[21], line 33\u001b[0m\n\u001b[1;32m     31\u001b[0m     thread\u001b[39m.\u001b[39mstart()\n\u001b[1;32m     32\u001b[0m \u001b[39mfor\u001b[39;00m thread \u001b[39min\u001b[39;00m threads:\n\u001b[0;32m---> 33\u001b[0m     thread\u001b[39m.\u001b[39;49mjoin()\n",
      "File \u001b[0;32m/usr/lib/python3.10/threading.py:1096\u001b[0m, in \u001b[0;36mThread.join\u001b[0;34m(self, timeout)\u001b[0m\n\u001b[1;32m   1093\u001b[0m     \u001b[39mraise\u001b[39;00m \u001b[39mRuntimeError\u001b[39;00m(\u001b[39m\"\u001b[39m\u001b[39mcannot join current thread\u001b[39m\u001b[39m\"\u001b[39m)\n\u001b[1;32m   1095\u001b[0m \u001b[39mif\u001b[39;00m timeout \u001b[39mis\u001b[39;00m \u001b[39mNone\u001b[39;00m:\n\u001b[0;32m-> 1096\u001b[0m     \u001b[39mself\u001b[39;49m\u001b[39m.\u001b[39;49m_wait_for_tstate_lock()\n\u001b[1;32m   1097\u001b[0m \u001b[39melse\u001b[39;00m:\n\u001b[1;32m   1098\u001b[0m     \u001b[39m# the behavior of a negative timeout isn't documented, but\u001b[39;00m\n\u001b[1;32m   1099\u001b[0m     \u001b[39m# historically .join(timeout=x) for x<0 has acted as if timeout=0\u001b[39;00m\n\u001b[1;32m   1100\u001b[0m     \u001b[39mself\u001b[39m\u001b[39m.\u001b[39m_wait_for_tstate_lock(timeout\u001b[39m=\u001b[39m\u001b[39mmax\u001b[39m(timeout, \u001b[39m0\u001b[39m))\n",
      "File \u001b[0;32m/usr/lib/python3.10/threading.py:1116\u001b[0m, in \u001b[0;36mThread._wait_for_tstate_lock\u001b[0;34m(self, block, timeout)\u001b[0m\n\u001b[1;32m   1113\u001b[0m     \u001b[39mreturn\u001b[39;00m\n\u001b[1;32m   1115\u001b[0m \u001b[39mtry\u001b[39;00m:\n\u001b[0;32m-> 1116\u001b[0m     \u001b[39mif\u001b[39;00m lock\u001b[39m.\u001b[39;49macquire(block, timeout):\n\u001b[1;32m   1117\u001b[0m         lock\u001b[39m.\u001b[39mrelease()\n\u001b[1;32m   1118\u001b[0m         \u001b[39mself\u001b[39m\u001b[39m.\u001b[39m_stop()\n",
      "\u001b[0;31mKeyboardInterrupt\u001b[0m: "
     ]
    }
   ],
   "source": [
    "from threading import Lock, Thread\n",
    "from time import sleep\n",
    "\n",
    "l1, l2 = Lock(), Lock()\n",
    "\n",
    "\n",
    "def f1(name):\n",
    "    print('thread', name, 'about to lock l1')\n",
    "    with l1:\n",
    "        print('thread', name, 'has lock l1')\n",
    "        sleep(0.3)\n",
    "        print('thread', name, 'about to lock l2')\n",
    "        with l2:\n",
    "            print('thread', name)\n",
    "\n",
    "\n",
    "def f2(name):\n",
    "    print('thread', name, 'about to lock l2')\n",
    "    with l2:\n",
    "        print('thread', name, 'has lock l2')\n",
    "        sleep(0.3)\n",
    "        print('thread', name, 'about to lock l1')\n",
    "        with l1:\n",
    "            print('thread', name)\n",
    "\n",
    "\n",
    "if __name__ == '__main__':\n",
    "    threads = [Thread(target=f1, args=['t1',]),\n",
    "               Thread(target=f2, args=['t2',])]\n",
    "    for thread in threads:\n",
    "        thread.start()\n",
    "    for thread in threads:\n",
    "        thread.join()\n"
   ]
  },
  {
   "attachments": {},
   "cell_type": "markdown",
   "metadata": {},
   "source": [
    "Одним из способов избежать появления взаимной блокировки в данном случае является добавление третьего объекта `Lock()`, ограничивающего доступ к ресурсам, контролируемым объектами `l1` и `l2`."
   ]
  },
  {
   "cell_type": "code",
   "execution_count": 22,
   "metadata": {},
   "outputs": [
    {
     "name": "stdout",
     "output_type": "stream",
     "text": [
      "thread t1 about to lock l1\n",
      "thread t1 has lock l1\n",
      "thread t1 about to lock l2\n",
      "thread t1\n",
      "thread t2 about to lock l2\n",
      "thread t2 has lock l2\n",
      "thread t2 about to lock l1\n",
      "thread t2\n"
     ]
    }
   ],
   "source": [
    "from threading import Lock, Thread\n",
    "from time import sleep\n",
    "\n",
    "l1, l2 = Lock(), Lock()\n",
    "\n",
    "l3 = Lock()\n",
    "\n",
    "\n",
    "def f1(name):\n",
    "    with l3:\n",
    "        print('thread', name, 'about to lock l1')\n",
    "        with l1:\n",
    "            print('thread', name, 'has lock l1')\n",
    "            sleep(0.3)\n",
    "            print('thread', name, 'about to lock l2')\n",
    "            with l2:\n",
    "                print('thread', name)\n",
    "\n",
    "\n",
    "def f2(name):\n",
    "    with l3:\n",
    "        print('thread', name, 'about to lock l2')\n",
    "        with l2:\n",
    "            print('thread', name, 'has lock l2')\n",
    "            sleep(0.3)\n",
    "            print('thread', name, 'about to lock l1')\n",
    "            with l1:\n",
    "                print('thread', name)\n",
    "\n",
    "\n",
    "if __name__ == '__main__':\n",
    "    threads = [Thread(target=f1, args=['t1',]),\n",
    "               Thread(target=f2, args=['t2',])]\n",
    "    for thread in threads:\n",
    "        thread.start()\n",
    "    for thread in threads:\n",
    "        thread.join()\n"
   ]
  },
  {
   "cell_type": "markdown",
   "metadata": {
    "id": "NmIoTLzBc5NF"
   },
   "source": [
    "**Упражнение 3.** Вам необходимо вычислить значение функции f = x**2 + x * 2 + 10 * x для различных значений аргументов (10 случайных чисел).\n",
    "\n",
    "1. Сделайте программу без использования потоков/процессов и измерьте время.\n",
    "\n",
    "2. Разбейте задачу на несколько потоков (отдельный поток для каждого аргумента и отдельный поток для каждого слагаемоего функции). Запустите программу. Измерьте время. \n",
    "\n",
    "3. Разбейте задачу на несколько процессов (отдельный процесс для каждого аргумента и отдельный процесс для каждого слагаемоего функции). Запустите программу. Измерьте время. \n",
    "\n",
    "Для синхронизации можно использовать барьеры.\n",
    "\n",
    "Объясните полученные результаты."
   ]
  },
  {
   "cell_type": "code",
   "execution_count": 4,
   "metadata": {},
   "outputs": [],
   "source": [
    "from random import uniform\n",
    "from threading import Thread, Lock\n",
    "from multiprocessing import Process, Value\n",
    "\n",
    "def work_single_thread():\n",
    "    def calculate(x):\n",
    "        return x ** 2 + 2 * x + 10 * x\n",
    "\n",
    "    args = [uniform(0, 100) for _ in range(10)]\n",
    "\n",
    "    for x in args:\n",
    "        calculate(x)\n",
    "\n",
    "\n",
    "def work_multithread():\n",
    "    def calculate_multithread(x):\n",
    "        result = 0\n",
    "        lock = Lock()\n",
    "\n",
    "        def task_1():\n",
    "            nonlocal result\n",
    "            part = x ** 2\n",
    "            with lock:\n",
    "                result += part\n",
    "\n",
    "        def task_2():\n",
    "            nonlocal result\n",
    "            part = 2 * x\n",
    "            with lock:\n",
    "                result += part\n",
    "\n",
    "        def task_3():\n",
    "            nonlocal result\n",
    "            part = x * 10\n",
    "            with lock:\n",
    "                result += part\n",
    "\n",
    "        threads = [Thread(target=task) for task in [task_1, task_2, task_3]]\n",
    "        for thread in threads:\n",
    "            thread.start()\n",
    "        for thread in threads:\n",
    "            thread.join()\n",
    "\n",
    "        return result\n",
    "\n",
    "    args = [uniform(0, 100) for _ in range(10)]\n",
    "    threads = [Thread(target=calculate_multithread, args=(x, )) for x in args]\n",
    "    for thread in threads:\n",
    "        thread.start()\n",
    "    for thread in threads:\n",
    "        thread.join()\n",
    "\n",
    "\n",
    "def work_multiprocess():\n",
    "    def calculate_multiprocess(x):\n",
    "        def task_1(x, r):\n",
    "            part = x ** 2\n",
    "            with r.get_lock():\n",
    "                r.value += part\n",
    "\n",
    "        def task_2(x, r):\n",
    "            part = 2 * x\n",
    "            with r.get_lock():\n",
    "                r.value += part\n",
    "\n",
    "        def task_3(x, r):\n",
    "            part = x * 10\n",
    "            with r.get_lock():\n",
    "                r.value += part\n",
    "\n",
    "        result = Value('d', 0.0)\n",
    "\n",
    "        processes = [\n",
    "            Process(target=task_1, args=(x, result)),\n",
    "            Process(target=task_2, args=(x, result)),\n",
    "            Process(target=task_3, args=(x, result)),\n",
    "        ]\n",
    "        for process in processes:\n",
    "            process.start()\n",
    "        for process in processes:\n",
    "            process.join()\n",
    "\n",
    "        return result.value\n",
    "\n",
    "    args = [uniform(0, 100) for _ in range(10)]\n",
    "    processes = [Process(target=calculate_multiprocess, args=(x, ))\n",
    "                 for x in args]\n",
    "    for process in processes:\n",
    "        process.start()\n",
    "    for process in processes:\n",
    "        process.join()"
   ]
  },
  {
   "cell_type": "code",
   "execution_count": 6,
   "metadata": {},
   "outputs": [
    {
     "name": "stdout",
     "output_type": "stream",
     "text": [
      "4.97 µs ± 84.1 ns per loop (mean ± std. dev. of 7 runs, 100,000 loops each)\n",
      "3.64 ms ± 257 µs per loop (mean ± std. dev. of 7 runs, 100 loops each)\n",
      "220 ms ± 16.5 ms per loop (mean ± std. dev. of 7 runs, 1 loop each)\n"
     ]
    }
   ],
   "source": [
    "%timeit work_single_thread()\n",
    "%timeit work_multithread()\n",
    "%timeit work_multiprocess()"
   ]
  },
  {
   "attachments": {},
   "cell_type": "markdown",
   "metadata": {},
   "source": [
    "**Объяснение:**\n",
    "\n",
    "Многопоточная реализация решения задачи не может привести к приросту в производительности, так как приведенная относится к CPU-bound-задачам.\n",
    "\n",
    "Многопроцессная реализация задачи также не улучшает время исполнения программы, так как из-за простоты приведенной задачи издержки на использование многопроцессности превышают выгоду от ее распараллеливания."
   ]
  },
  {
   "cell_type": "markdown",
   "metadata": {
    "id": "NJyuM71kdhY1"
   },
   "source": [
    "**Упражнение 4.** Смоделируйте следующую ситуацию с использованием семафоров и событий.\n",
    "\n",
    "1. Есть 5 касс и 20 покупателей. Все они хотят купить билеты на матч. На билетах не указаны места. \n",
    "\n",
    "2. После покупки билета покупатель бежит на стадион (у каждого разная скорость бега, это намек, что надо сделать sleep) и занимает свободное место.\n",
    "\n",
    "Программа должна вывести логированные события по типу:\n",
    "\n",
    "client 0, service time (ticket): 1.0004174709320068\n",
    "\n",
    "client 1, service time (ticket): 1.0005174709320068\n",
    "\n",
    "client 1, runnig time to stad:   1.2004174709320068\n",
    "\n",
    "client 0, runnig time to stad:   1.5004174709320068"
   ]
  },
  {
   "cell_type": "code",
   "execution_count": 19,
   "metadata": {},
   "outputs": [
    {
     "name": "stdout",
     "output_type": "stream",
     "text": [
      "client 2\twait time:\t1.1386303360341117\n",
      "client 0\twait time:\t1.356558125000447\n",
      "client 4\twait time:\t2.3463734409888275\n",
      "client 1\twait time:\t2.5756050089839846\n",
      "client 0\tarrival time:\t2.7315891530015506\n",
      "client 7\twait time:\t4.165329527982976\n",
      "client 3\twait time:\t4.567125396977644\n",
      "client 6\twait time:\t4.567115792015102\n",
      "client 4\tarrival time:\t2.300787203013897\n",
      "client 7\tarrival time:\t1.2854235660051927\n",
      "client 2\tarrival time:\t4.688847080979031\n",
      "client 10\twait time:\t6.114432237984147\n",
      "client 5\twait time:\t6.199242699018214\n",
      "client 3\tarrival time:\t1.7743961600353941\n",
      "client 8\twait time:\t6.77484273299342\n",
      "client 6\tarrival time:\t2.2397508029825985\n",
      "client 1\tarrival time:\t4.343860118009616\n",
      "client 9\twait time:\t7.017885534034576\n",
      "client 12\twait time:\t7.449067716021091\n",
      "client 11\twait time:\t8.574841618014034\n",
      "client 5\tarrival time:\t2.7197922699851915\n",
      "client 10\tarrival time:\t3.043971061008051\n",
      "client 12\tarrival time:\t2.012600790010765\n",
      "client 9\tarrival time:\t3.388867475965526\n",
      "client 14\twait time:\t10.990331290988252\n",
      "client 13\twait time:\t11.01020872197114\n",
      "client 17\twait time:\t11.873709804029204\n",
      "client 15\twait time:\t12.422262434964068\n",
      "client 8\tarrival time:\t5.65582996699959\n",
      "client 16\twait time:\t12.81005044101039\n",
      "client 19\twait time:\t12.933218053018209\n",
      "client 18\twait time:\t13.121574966004118\n",
      "client 14\tarrival time:\t2.499715335026849\n",
      "client 11\tarrival time:\t5.285524478007574\n",
      "client 13\tarrival time:\t4.75193719798699\n",
      "client 16\tarrival time:\t3.6041739259962924\n",
      "client 17\tarrival time:\t5.268354504951276\n",
      "client 18\tarrival time:\t4.188231802021619\n",
      "client 19\tarrival time:\t4.720776859030593\n",
      "client 15\tarrival time:\t5.759778148029\n"
     ]
    }
   ],
   "source": [
    "from threading import Thread, Semaphore\n",
    "from random import uniform\n",
    "from time import perf_counter, sleep\n",
    "\n",
    "cashiers_num = 5\n",
    "clients_num = 20\n",
    "\n",
    "ticket_office = Semaphore(cashiers_num)\n",
    "\n",
    "\n",
    "def work(num):\n",
    "    before_service = perf_counter()\n",
    "    with ticket_office:\n",
    "        sleep(uniform(1, 6))\n",
    "    after_service = perf_counter()\n",
    "    print(f'client {num}\\twait time:\\t{after_service - before_service}')\n",
    "    sleep(uniform(1, 6))\n",
    "    print(f'client {num}\\tarrival time:\\t{perf_counter() - after_service}')\n",
    "\n",
    "\n",
    "threads = [Thread(target=work, args=(i,)) for i in range(clients_num)]\n",
    "for thread in threads:\n",
    "    thread.start()\n",
    "for thread in threads:\n",
    "    thread.join()"
   ]
  },
  {
   "attachments": {},
   "cell_type": "markdown",
   "metadata": {
    "id": "iftq-o1Cey43"
   },
   "source": [
    "**Упражнение 5.** Покажите и опишите разницу между Semaphore и BoundedSemaphore."
   ]
  },
  {
   "attachments": {},
   "cell_type": "markdown",
   "metadata": {},
   "source": [
    "Объекты `threading.Semaphore` и `threading.BoundedSemaphore` используются для ограничения числа потоков, имеющих доступ к секции кода, и используют внутренний счетчик `_value`, отражающий количество \"свободных мест\" и инициализируемый при создании объекта. \n",
    "\n",
    "Счетчик семафора уменьшается при вызове метода `acquire()` и увеличивается при вызове метода `release()`. \n",
    "\n",
    "Вызов `acquire()` при `_value == 0` приведет к остановке выполнения кода, вызвавшего метод, пока другой поток не вызовет `release()`, тем самым увеличив значение `_value`.\n",
    "\n",
    "Разница между `Semaphore` и `BoundedSemaphore` проявляется в том, как они обрабатывают вызов `release()` при значении `_value`, равному исходному значению (определенному при инициализации).\n",
    "\n",
    "Вызов `Semaphore.release` при таком `_value` будет обработан как обычно и приведет к увеличению `_value` выше исходного значения.\n",
    "\n",
    "Вызов `BoundedSemaphore.release` в такой же ситуации выбросит исключение `ValueError`, предотвратив увеличение `_value` выше исходного значения."
   ]
  },
  {
   "cell_type": "code",
   "execution_count": 17,
   "metadata": {},
   "outputs": [
    {
     "name": "stdout",
     "output_type": "stream",
     "text": [
      "Initial Semaphore value: 3\n",
      "Semaphore value after acquire(): 2\n",
      "Semaphore value after release(): 3\n",
      "Semaphore value after release(): 4\n",
      "\n",
      "Initial BoundedSemaphore value: 3\n",
      "BoundedSemaphore value after acquire(): 2\n",
      "BoundedSemaphore value after release(): 3\n",
      "Cannot release BoundedSemaphore!\n",
      "Final BoundedSemaphore value: 3\n"
     ]
    }
   ],
   "source": [
    "from threading import Semaphore, BoundedSemaphore\n",
    "\n",
    "s = Semaphore(3)\n",
    "b = BoundedSemaphore(3)\n",
    "\n",
    "print(f'Initial Semaphore value: {s._value}')\n",
    "\n",
    "s.acquire()\n",
    "print(f'Semaphore value after acquire(): {s._value}')\n",
    "\n",
    "s.release()\n",
    "print(f'Semaphore value after release(): {s._value}')\n",
    "\n",
    "s.release()\n",
    "print(f'Semaphore value after release(): {s._value}\\n')\n",
    "\n",
    "\n",
    "print(f'Initial BoundedSemaphore value: {b._value}')\n",
    "\n",
    "b.acquire()\n",
    "print(f'BoundedSemaphore value after acquire(): {b._value}')\n",
    "\n",
    "b.release()\n",
    "print(f'BoundedSemaphore value after release(): {b._value}')\n",
    "\n",
    "try:\n",
    "    b.release()\n",
    "    print(f'BoundedSemaphore value after release(): {b._value}')\n",
    "except ValueError:\n",
    "    print(\"Cannot release BoundedSemaphore!\")\n",
    "finally:\n",
    "    print(f'Final BoundedSemaphore value: {b._value}')\n"
   ]
  },
  {
   "cell_type": "markdown",
   "metadata": {
    "id": "q9LVYFQte7UF"
   },
   "source": [
    "**Упражнение 6.** Запустите на исполнение, замерив время работы. Перепишите с помощью потоков и опять замерьте время. Затем с помощью процессов и снова измерьте время. Объясните результат."
   ]
  },
  {
   "cell_type": "code",
   "execution_count": null,
   "metadata": {
    "colab": {
     "base_uri": "https://localhost:8080/"
    },
    "id": "sHFcCHIleygy",
    "outputId": "a1710f30-d46a-47d0-ad42-dc9140bebe2e"
   },
   "outputs": [
    {
     "name": "stdout",
     "output_type": "stream",
     "text": [
      "4.498141050338745\n"
     ]
    }
   ],
   "source": [
    "import urllib.request\n",
    "import time\n",
    "\n",
    "\n",
    "urls = [\n",
    "    'https://www.yandex.ru', 'https://www.google.com',\n",
    "    'https://habrahabr.ru', 'https://www.python.org',\n",
    "    'https://isocpp.org',\n",
    "]\n",
    "\n",
    "\n",
    "def read_url(url):\n",
    "    with urllib.request.urlopen(url) as u:\n",
    "        return u.read()\n",
    "\n",
    "\n",
    "start = time.time()\n",
    "for url in urls:\n",
    "    read_url(url)\n",
    "print(time.time() - start)"
   ]
  },
  {
   "cell_type": "code",
   "execution_count": 11,
   "metadata": {},
   "outputs": [],
   "source": [
    "from urllib.request import urlopen\n",
    "from threading import Thread\n",
    "from multiprocessing import Process\n",
    "\n",
    "urls = [\n",
    "    'https://www.yandex.ru', 'https://www.google.com',\n",
    "    'https://habrahabr.ru', 'https://www.python.org',\n",
    "    'https://isocpp.org',\n",
    "]\n",
    "\n",
    "\n",
    "def read_url(url):\n",
    "    with urlopen(url) as u:\n",
    "        return u.read()\n",
    "\n",
    "\n",
    "def read_urls_single_thread():\n",
    "    for url in urls:\n",
    "        read_url(url)\n",
    "\n",
    "\n",
    "def read_urls_multithread():\n",
    "    threads = [Thread(target=read_url, args=(url, )) for url in urls]\n",
    "    for thread in threads:\n",
    "        thread.start()\n",
    "    for thread in threads:\n",
    "        thread.join()\n",
    "\n",
    "\n",
    "def read_urls_multiprocess():\n",
    "    processes = [Process(target=read_url, args=(url, )) for url in urls]\n",
    "    for process in processes:\n",
    "        process.start()\n",
    "    for process in processes:\n",
    "        process.join()"
   ]
  },
  {
   "cell_type": "code",
   "execution_count": 13,
   "metadata": {},
   "outputs": [
    {
     "name": "stdout",
     "output_type": "stream",
     "text": [
      "3.96 s ± 752 ms per loop (mean ± std. dev. of 7 runs, 1 loop each)\n",
      "1.89 s ± 310 ms per loop (mean ± std. dev. of 7 runs, 1 loop each)\n",
      "1.52 s ± 135 ms per loop (mean ± std. dev. of 7 runs, 1 loop each)\n"
     ]
    }
   ],
   "source": [
    "%timeit read_urls_single_thread()\n",
    "%timeit read_urls_multithread()\n",
    "%timeit read_urls_multiprocess()"
   ]
  },
  {
   "attachments": {},
   "cell_type": "markdown",
   "metadata": {},
   "source": [
    "**Объяснение:**\n",
    "\n",
    "Так как задача является IO-bound, использование многопоточности улучшило время выполнения задачи. Многопроцессная реализация решения также уменьшила время работы за счет параллельности выполнения."
   ]
  }
 ],
 "metadata": {
  "colab": {
   "provenance": []
  },
  "kernelspec": {
   "display_name": "Python 3 (ipykernel)",
   "language": "python",
   "name": "python3"
  },
  "language_info": {
   "codemirror_mode": {
    "name": "ipython",
    "version": 3
   },
   "file_extension": ".py",
   "mimetype": "text/x-python",
   "name": "python",
   "nbconvert_exporter": "python",
   "pygments_lexer": "ipython3",
   "version": "3.10.6"
  }
 },
 "nbformat": 4,
 "nbformat_minor": 1
}
