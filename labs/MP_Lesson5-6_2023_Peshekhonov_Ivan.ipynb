{
 "cells": [
  {
   "attachments": {},
   "cell_type": "markdown",
   "metadata": {},
   "source": [
    "# Лабораторная работа №5"
   ]
  },
  {
   "attachments": {},
   "cell_type": "markdown",
   "metadata": {
    "id": "pnfqwkxMd7e3"
   },
   "source": [
    "## Упражнение 1"
   ]
  },
  {
   "attachments": {},
   "cell_type": "markdown",
   "metadata": {},
   "source": [
    "### Задание\n",
    "Распараллелить код с помощью dask.delayed. Оцените время работы кода до и после распараллеливания. Объясните результат."
   ]
  },
  {
   "cell_type": "code",
   "execution_count": 20,
   "metadata": {
    "colab": {
     "base_uri": "https://localhost:8080/"
    },
    "executionInfo": {
     "elapsed": 3721,
     "status": "ok",
     "timestamp": 1648067364198,
     "user": {
      "displayName": "Мария Г.",
      "photoUrl": "https://lh3.googleusercontent.com/a-/AOh14Gh4FyqRjZ-rHKlgMT3-HpGacmODUnPekm5dhai_gA=s64",
      "userId": "05678199021870601729"
     },
     "user_tz": -180
    },
    "id": "-ECI1xlCd7Gu",
    "outputId": "e00ef25b-5da8-4c08-cfa6-482b2f8ac85e"
   },
   "outputs": [
    {
     "name": "stdout",
     "output_type": "stream",
     "text": [
      "CPU times: user 1.94 ms, sys: 201 µs, total: 2.14 ms\n",
      "Wall time: 3 s\n"
     ]
    }
   ],
   "source": [
    "%%time\n",
    "\n",
    "from time import sleep\n",
    "\n",
    "def inc(x):\n",
    "    sleep(1)\n",
    "    return x + 1\n",
    "\n",
    "def add(x, y):\n",
    "    sleep(1)\n",
    "    return x + y\n",
    "\n",
    "x = inc(1)\n",
    "y = inc(2)\n",
    "z = add(x, y)"
   ]
  },
  {
   "attachments": {},
   "cell_type": "markdown",
   "metadata": {},
   "source": [
    "### Решение"
   ]
  },
  {
   "cell_type": "code",
   "execution_count": 21,
   "metadata": {},
   "outputs": [
    {
     "name": "stdout",
     "output_type": "stream",
     "text": [
      "CPU times: user 5.07 ms, sys: 251 µs, total: 5.32 ms\n",
      "Wall time: 2.01 s\n"
     ]
    },
    {
     "data": {
      "text/plain": [
       "5"
      ]
     },
     "execution_count": 21,
     "metadata": {},
     "output_type": "execute_result"
    }
   ],
   "source": [
    "%%time\n",
    "\n",
    "from dask import delayed\n",
    "\n",
    "@delayed\n",
    "def d_inc(x):\n",
    "    sleep(1)\n",
    "    return x + 1\n",
    "\n",
    "@delayed\n",
    "def d_add(x, y):\n",
    "    sleep(1)\n",
    "    return x + y\n",
    "\n",
    "xd = d_inc(1)\n",
    "yd = d_inc(2)\n",
    "zd = d_add(xd, yd)\n",
    "\n",
    "zd.compute()"
   ]
  },
  {
   "attachments": {},
   "cell_type": "markdown",
   "metadata": {},
   "source": [
    "### Объяснение\n",
    "\n",
    "Код, приведенный в задании, выполняется за ~3с, так как содержит 3 последовательных вызова функций, каждая из которых имеет задержку в 1с.\n",
    "\n",
    "Код, приведенный в решении, оптимизирован таким образом, что все независимые вызовы функций (в нашем случае это `inc(1)` и `inc(2)`) распараллеливаются, что позволяет сократить время работы до 2с."
   ]
  },
  {
   "attachments": {},
   "cell_type": "markdown",
   "metadata": {
    "id": "5ex-0AkxeZ-H"
   },
   "source": [
    "## Упражнение 2"
   ]
  },
  {
   "attachments": {},
   "cell_type": "markdown",
   "metadata": {},
   "source": [
    "### Задание\n",
    "\n",
    "Распараллелить код с помощью dask.delayed. Оцените время работы кода до и после распараллеливания. Объясните результат."
   ]
  },
  {
   "cell_type": "code",
   "execution_count": 22,
   "metadata": {
    "colab": {
     "base_uri": "https://localhost:8080/"
    },
    "executionInfo": {
     "elapsed": 10362,
     "status": "ok",
     "timestamp": 1648067547206,
     "user": {
      "displayName": "Мария Г.",
      "photoUrl": "https://lh3.googleusercontent.com/a-/AOh14Gh4FyqRjZ-rHKlgMT3-HpGacmODUnPekm5dhai_gA=s64",
      "userId": "05678199021870601729"
     },
     "user_tz": -180
    },
    "id": "b5lMybIyd-lP",
    "outputId": "8038bd39-eb70-43e9-feec-2834750af47c"
   },
   "outputs": [
    {
     "name": "stdout",
     "output_type": "stream",
     "text": [
      "90\n",
      "CPU times: user 3.33 ms, sys: 345 µs, total: 3.67 ms\n",
      "Wall time: 10 s\n"
     ]
    }
   ],
   "source": [
    "%%time\n",
    "\n",
    "def inc(x):\n",
    "    sleep(1)\n",
    "    return x + 1\n",
    "\n",
    "def double(x):\n",
    "    sleep(1)\n",
    "    return 2 * x\n",
    "\n",
    "def is_even(x):\n",
    "    return not x % 2\n",
    "\n",
    "data = [1, 2, 3, 4, 5, 6, 7, 8, 9, 10]\n",
    "\n",
    "results = []\n",
    "for x in data:\n",
    "    if is_even(x):\n",
    "        y = double(x)\n",
    "    else:\n",
    "        y = inc(x)\n",
    "    results.append(y)\n",
    "\n",
    "total = sum(results)\n",
    "print(total)"
   ]
  },
  {
   "attachments": {},
   "cell_type": "markdown",
   "metadata": {},
   "source": [
    "### Решение"
   ]
  },
  {
   "cell_type": "code",
   "execution_count": 37,
   "metadata": {},
   "outputs": [
    {
     "name": "stdout",
     "output_type": "stream",
     "text": [
      "CPU times: user 2.01 ms, sys: 7.73 ms, total: 9.74 ms\n",
      "Wall time: 2.01 s\n"
     ]
    },
    {
     "data": {
      "text/plain": [
       "90"
      ]
     },
     "execution_count": 37,
     "metadata": {},
     "output_type": "execute_result"
    }
   ],
   "source": [
    "%%time\n",
    "\n",
    "from dask import delayed\n",
    "\n",
    "def is_even(x):\n",
    "    return not x % 2\n",
    "\n",
    "@delayed\n",
    "def d_inc(x):\n",
    "    sleep(1)\n",
    "    return x + 1\n",
    "\n",
    "@delayed\n",
    "def d_double(x):\n",
    "    sleep(1)\n",
    "    return 2 * x\n",
    "\n",
    "results = [d_double(x) if is_even(x) else d_inc(x) for x in range(1, 11)]\n",
    "\n",
    "total = delayed(sum)(results)\n",
    "\n",
    "total.compute()"
   ]
  },
  {
   "attachments": {},
   "cell_type": "markdown",
   "metadata": {},
   "source": [
    "### Объяснение\n",
    "\n",
    "Код, приведенный в задании, выполняется за ~10с, так как в нем выполняется последовательная обработка массива из 10 элементов, каждый из которых обрабатывается в течение 1с. \n",
    "\n",
    "Код, приведенный в решении, на данной машине (имеется в виду *локальная* машина - не Google Colab) позволяет сократить время выполнения до 2с. Так как все операции обработки независимы друг от друга, они могут быть выполнены параллельно, а так как на данной машине присутствует 8 логических ядер, Dask может выполнять 8 одновременных операций, что в случае массива размером 10 означает 2 итерации (8 + 2)."
   ]
  },
  {
   "attachments": {},
   "cell_type": "markdown",
   "metadata": {
    "id": "bU3jS6Ltgp_S"
   },
   "source": [
    "## Упражнение 3"
   ]
  },
  {
   "attachments": {},
   "cell_type": "markdown",
   "metadata": {},
   "source": [
    "### Задание\n",
    "\n",
    "Использовать dask.bag. \n",
    "\n",
    "Мы будем использовать пакет Dask для расчета частот последовательностей по пять символов, а затем сортировать последовательности в порядке убывания частоты встреч.\n",
    "\n",
    "Реализуйте функцию group_characters(line, n=5) для группировки строки по n символов и возврата итератора. Строка — это текстовая строка в файле genome.txt.  (сгенерировать самостоятельно)"
   ]
  },
  {
   "cell_type": "code",
   "execution_count": 24,
   "metadata": {
    "executionInfo": {
     "elapsed": 5,
     "status": "ok",
     "timestamp": 1648068290678,
     "user": {
      "displayName": "Мария Г.",
      "photoUrl": "https://lh3.googleusercontent.com/a-/AOh14Gh4FyqRjZ-rHKlgMT3-HpGacmODUnPekm5dhai_gA=s64",
      "userId": "05678199021870601729"
     },
     "user_tz": -180
    },
    "id": "5ZF6KZ94euNo"
   },
   "outputs": [],
   "source": [
    "# >>> line = \"abcdefghijklmno\"\n",
    "# >>> for seq in group_character(line, 5):\n",
    "#         print(seq)\n",
    "        \n",
    "# \"abcde\"\n",
    "# \"efghi\"\n",
    "# \"klmno\""
   ]
  },
  {
   "cell_type": "markdown",
   "metadata": {
    "id": "oaR0aRtYhn6z"
   },
   "source": [
    "Реализовать group_and_split(line)"
   ]
  },
  {
   "cell_type": "code",
   "execution_count": 25,
   "metadata": {
    "executionInfo": {
     "elapsed": 3,
     "status": "ok",
     "timestamp": 1648068309721,
     "user": {
      "displayName": "Мария Г.",
      "photoUrl": "https://lh3.googleusercontent.com/a-/AOh14Gh4FyqRjZ-rHKlgMT3-HpGacmODUnPekm5dhai_gA=s64",
      "userId": "05678199021870601729"
     },
     "user_tz": -180
    },
    "id": "10_HlaPghi26"
   },
   "outputs": [],
   "source": [
    "# >>> group_and_split('abcdefghijklmno')\n",
    "# ['abcde', 'fghij', 'klmno']"
   ]
  },
  {
   "cell_type": "markdown",
   "metadata": {
    "id": "sST6lDgnhu4G"
   },
   "source": [
    "Использовать dask.bag для вычисления частот встреч групп символов по 5 и отсортировать по ней."
   ]
  },
  {
   "attachments": {},
   "cell_type": "markdown",
   "metadata": {},
   "source": [
    "### Решение"
   ]
  },
  {
   "cell_type": "code",
   "execution_count": 26,
   "metadata": {},
   "outputs": [
    {
     "name": "stdout",
     "output_type": "stream",
     "text": [
      "adcadaadcdccbcaccbaadbbcccaacbbcbccaaaabdbcaadcdbccbdbcadababbaaabdaddcbbcacdccdbaaccdabcdadaacdccdbbcdbccbcdacdccaccbddbabaacbbbacdbbacacdbbadbbacdabdadbaaabdacbbdddccaaaaddbcaaccccbbdbccacbcdacdbbadddddacabaabbdadaacccccdacbabacbadaaddaaacbdcbbaacbcccdcbbbdbabdaaacdccadacdcbcdbadbbdabdbddcccccccaddcdbdabcccbdcdbdccadbacaccbdadbcddabcbbdbbbabcbbbbdbdcdbcbdcdbbccdddcbbdaccaddbbbbacdbdaaccabdabbaabbaabaddaadbdaabdcbbdbaadcddcaccabdaccdcdcabdbaaacbcbdddddcadcaaacaaaadadbdbbaaaaddcddddbcaaabcccaddbdbdccaadaccbcacccbbaccababbcaabcadcbdbbdacbbadacdbcdcbcaaccbcaacbdaccbdabddddcccaadaaccacaaaadcbccaaadcdccabbbcabcbcabbadcddbdcbddadbabcdabdcaacdccdcabcbbbcabadbaaaccabaabaabcacbcadbbccdccdcabddcabbbcdbbbcbddccbcbbbcdabddcbaabacddbabcdbacddadddadcccaadaaaabdbaaadddbccdaaaacabbbddbdddbbcbabccccbdabccaccdbdcadadabcaccadddcaacbabaaadcdbabdaaaccadbbdadbdcacbbdcdbbbdadbaacbccbaccaacdadaabddabacdbbccdcbcddcacdbbcdaababadcbcbcdcbbdbbcdcabdccdaccbbbcdcbaaaddaaadbbaacdbddabdaaaddaaaddddaacdbbacabdbcdbbaa"
     ]
    }
   ],
   "source": [
    "# Генерация случайной строки\n",
    "\n",
    "from random import choice\n",
    "from string import ascii_lowercase\n",
    "\n",
    "def generate_string(n):\n",
    "    return ''.join(choice(ascii_lowercase[:4]) for _ in range(n))\n",
    "\n",
    "with open(\"temp/genome.txt\", \"w\") as f:\n",
    "    f.write(generate_string(1000))\n",
    "\n",
    "!cat ./temp/genome.txt"
   ]
  },
  {
   "cell_type": "code",
   "execution_count": 27,
   "metadata": {},
   "outputs": [
    {
     "name": "stdout",
     "output_type": "stream",
     "text": [
      "abcde\n",
      "fghij\n",
      "klmno\n"
     ]
    },
    {
     "data": {
      "text/plain": [
       "['abcde', 'fghij', 'klmno']"
      ]
     },
     "execution_count": 27,
     "metadata": {},
     "output_type": "execute_result"
    }
   ],
   "source": [
    "def group_character(line, n=5):\n",
    "    return (line[i : i + n] for i in range(0, len(line), n))\n",
    "\n",
    "\n",
    "def group_and_split(line, n=5):\n",
    "    return [line[i : i + n] for i in range(0, len(line), n)]\n",
    "\n",
    "\n",
    "line = \"abcdefghijklmno\"\n",
    "for seq in group_character(line, 5):\n",
    "    print(seq)\n",
    "\n",
    "group_and_split(\"abcdefghijklmno\")\n"
   ]
  },
  {
   "cell_type": "code",
   "execution_count": 28,
   "metadata": {},
   "outputs": [
    {
     "name": "stdout",
     "output_type": "stream",
     "text": [
      "[('dbbcc', 3), ('caacb', 2), ('babaa', 2), ('cabaa', 2), ('bbdad', 2), ('abdaa', 2), ('cabda', 2), ('cdabd', 2), ('bcbbb', 2), ('bacdd', 2), ('aaadd', 2), ('adcad', 1), ('aadcd', 1), ('ccbca', 1), ('ccbaa', 1), ('bcbcc', 1), ('aaaab', 1), ('dbcaa', 1), ('dcdbc', 1), ('cbdbc', 1), ('adaba', 1), ('bbaaa', 1), ('bdadd', 1), ('cbbca', 1), ('cdccd', 1), ('baacc', 1), ('dabcd', 1), ('adaac', 1), ('dccdb', 1), ('bcdbc', 1), ('cbcda', 1), ('cdcca', 1), ('ccbdd', 1), ('cbbba', 1), ('cdbba', 1), ('cacdb', 1), ('badbb', 1), ('acdab', 1), ('dadba', 1), ('aabda', 1), ('cbbdd', 1), ('dccaa', 1), ('aaddb', 1), ('caacc', 1), ('ccbbd', 1), ('bccac', 1), ('bcdac', 1), ('dbbad', 1), ('dddda', 1), ('aaccc', 1), ('ccdac', 1), ('babac', 1), ('badaa', 1), ('ddaaa', 1), ('cbdcb', 1), ('baacb', 1), ('cccdc', 1), ('bbbdb', 1), ('acdcc', 1), ('adacd', 1), ('cbcdb', 1), ('adbbd', 1), ('abdbd', 1), ('dcccc', 1), ('cccad', 1), ('dcdbd', 1), ('abccc', 1), ('bdcdb', 1), ('dccad', 1), ('bacac', 1), ('cbdad', 1), ('bcdda', 1), ('bcbbd', 1), ('bbbab', 1), ('cbbbb', 1), ('dbdcd', 1), ('bcbdc', 1), ('dddcb', 1), ('bdacc', 1), ('addbb', 1), ('bbacd', 1), ('bdaac', 1), ('bbaab', 1), ('baaba', 1), ('ddaad', 1), ('bdaab', 1), ('dcbbd', 1), ('baadc', 1), ('ddcac', 1), ('ccdcd', 1), ('cabdb', 1), ('aaacb', 1), ('cbddd', 1), ('ddcad', 1), ('caaac', 1), ('aaaad', 1), ('adbdb', 1), ('baaaa', 1), ('ddcdd', 1), ('ddbca', 1), ('aabcc', 1), ('caddb', 1), ('dbdcc', 1), ('aadac', 1), ('cbcac', 1), ('ccbba', 1), ('ccaba', 1), ('bbcaa', 1), ('bcadc', 1), ('bdbbd', 1), ('acbba', 1), ('dacdb', 1), ('cdcbc', 1), ('aaccb', 1), ('daccb', 1), ('dabdd', 1), ('ddccc', 1), ('aadaa', 1), ('ccaca', 1), ('aaadc', 1), ('bccaa', 1), ('adcdc', 1), ('cabbb', 1), ('cabcb', 1), ('cabba', 1), ('dcddb', 1), ('dcbdd', 1), ('adbab', 1), ('caacd', 1), ('ccdca', 1), ('cabad', 1), ('baaac', 1), ('baabc', 1), ('acbca', 1), ('dccdc', 1), ('abddc', 1), ('abbbc', 1), ('dbbbc', 1), ('bddcc', 1), ('dcbaa', 1), ('babcd', 1), ('addda', 1), ('dccca', 1), ('adaaa', 1), ('abdba', 1), ('aaddd', 1), ('bccda', 1), ('aaaca', 1), ('bbbdd', 1), ('bdddb', 1), ('bcbab', 1), ('ccccb', 1), ('dabcc', 1), ('accdb', 1), ('dcada', 1), ('dabca', 1), ('ccadd', 1), ('dcaac', 1), ('adcdb', 1), ('accad', 1), ('bdcac', 1), ('bbdcd', 1), ('bbbda', 1), ('dbaac', 1), ('bccba', 1), ('ccaac', 1), ('dadaa', 1), ('bddab', 1), ('acdbb', 1), ('ccdcb', 1), ('cddca', 1), ('cdbbc', 1), ('daaba', 1), ('badcb', 1), ('cbcdc', 1), ('bbdbb', 1), ('cdcab', 1), ('dccda', 1), ('ccbbb', 1), ('cdcba', 1), ('aadda', 1), ('aadbb', 1), ('aacdb', 1), ('ddabd', 1), ('ddaac', 1), ('dbbac', 1), ('abdbc', 1), ('dbbaa', 1)]\n"
     ]
    }
   ],
   "source": [
    "from dask import bag as db\n",
    "\n",
    "with open(\"./temp/genome.txt\") as f:\n",
    "    line = f.read()\n",
    "\n",
    "b = db.from_sequence(group_character(line))\n",
    "f = b.frequencies(sort=True)\n",
    "\n",
    "print(f.compute())"
   ]
  },
  {
   "attachments": {},
   "cell_type": "markdown",
   "metadata": {},
   "source": [
    "# Лабораторная работа №6"
   ]
  },
  {
   "attachments": {},
   "cell_type": "markdown",
   "metadata": {
    "id": "vbz05xgriKOd"
   },
   "source": [
    "### Упражнение 4"
   ]
  },
  {
   "attachments": {},
   "cell_type": "markdown",
   "metadata": {},
   "source": [
    "### Задание\n",
    "\n",
    "Использовать dask.array\n",
    "\n",
    "Вычислите сумму, произведение и среднее значение двумерного квадратного массива (сгенерировать случайно) из 1_000_000 элементов в каждом измерении.\n",
    "\n",
    "1) с помощью dask (определить самостоятельно разбиение на блоки)\n",
    "\n",
    "2) без dask\n",
    "\n",
    "Измерить время"
   ]
  },
  {
   "attachments": {},
   "cell_type": "markdown",
   "metadata": {},
   "source": [
    "### Решение"
   ]
  },
  {
   "cell_type": "code",
   "execution_count": 29,
   "metadata": {},
   "outputs": [
    {
     "name": "stdout",
     "output_type": "stream",
     "text": [
      "857 ms ± 37.9 ms per loop (mean ± std. dev. of 7 runs, 1 loop each)\n"
     ]
    }
   ],
   "source": [
    "%%timeit\n",
    "\n",
    "from dask import array as da\n",
    "\n",
    "dim = 10_000\n",
    "chunk_size = 2000\n",
    "\n",
    "xd = da.random.random((dim, dim), chunks=(chunk_size, chunk_size))\n",
    "\n",
    "sd = xd.sum()\n",
    "pd = xd.prod()\n",
    "\n",
    "s = sd.compute()\n",
    "p = pd.compute()\n",
    "m = s / (dim * dim)"
   ]
  },
  {
   "cell_type": "code",
   "execution_count": 30,
   "metadata": {},
   "outputs": [
    {
     "name": "stdout",
     "output_type": "stream",
     "text": [
      "1.63 s ± 61.5 ms per loop (mean ± std. dev. of 7 runs, 1 loop each)\n"
     ]
    }
   ],
   "source": [
    "%%timeit\n",
    "\n",
    "import numpy as np\n",
    "\n",
    "dim = 10_000\n",
    "\n",
    "x = np.random.random((dim, dim))\n",
    "\n",
    "s = x.sum()\n",
    "p = x.prod()\n",
    "m = s / (dim * dim)"
   ]
  },
  {
   "attachments": {},
   "cell_type": "markdown",
   "metadata": {
    "id": "eCr1670Yi57g"
   },
   "source": [
    "## Упражнение 5"
   ]
  },
  {
   "attachments": {},
   "cell_type": "markdown",
   "metadata": {},
   "source": [
    "### Задание\n",
    "\n",
    "Постройте массив 20000x20000 нормально распределенных случайных значений (random), разбитых на фрагменты размером 1000x1000\n",
    "\n",
    "\n",
    "Возьмите среднее по одной оси\n",
    "\n",
    "\n",
    "Возьмите каждый 100-й элемент\n",
    "\n",
    "Сделайте задание в двух вариантах:\n",
    "\n",
    "1) dask\n",
    "\n",
    "2) numpy\n",
    "\n",
    "Измерите время и объясните результат."
   ]
  },
  {
   "attachments": {},
   "cell_type": "markdown",
   "metadata": {},
   "source": [
    "### Решение"
   ]
  },
  {
   "cell_type": "code",
   "execution_count": 31,
   "metadata": {
    "id": "w7KiyhzUhrD6"
   },
   "outputs": [
    {
     "name": "stdout",
     "output_type": "stream",
     "text": [
      "CPU times: user 20 s, sys: 227 ms, total: 20.2 s\n",
      "Wall time: 2.97 s\n"
     ]
    }
   ],
   "source": [
    "%%time\n",
    "\n",
    "from dask import array as da\n",
    "\n",
    "dim = 20_000\n",
    "ch_s = 1_000\n",
    "\n",
    "xd = da.random.normal(size=(dim, dim), chunks=(ch_s, ch_s))\n",
    "md = da.mean(xd[::100], axis=0)\n",
    "\n",
    "m = md.compute()"
   ]
  },
  {
   "cell_type": "code",
   "execution_count": 32,
   "metadata": {},
   "outputs": [
    {
     "name": "stdout",
     "output_type": "stream",
     "text": [
      "CPU times: user 12.8 s, sys: 7.36 s, total: 20.2 s\n",
      "Wall time: 20.9 s\n"
     ]
    }
   ],
   "source": [
    "%%time\n",
    "\n",
    "import numpy as np\n",
    "\n",
    "dim = 20_000\n",
    "\n",
    "x = np.random.normal(size=(dim, dim))\n",
    "m = np.mean(x[::100], axis=0)"
   ]
  },
  {
   "attachments": {},
   "cell_type": "markdown",
   "metadata": {},
   "source": [
    "### Объяснение\n",
    "\n",
    "Dask работает быстрее, чем Numpy, так как он распараллеливает вычисления на каждом блоке, тогда как Numpy производит вычисления в одном процессе на всем массиве сразу."
   ]
  }
 ],
 "metadata": {
  "colab": {
   "authorship_tag": "ABX9TyPN7UvlEaM67CQvpr6/9cg9",
   "name": "MP_Lesson5_2022_labs.ipynb",
   "provenance": []
  },
  "kernelspec": {
   "display_name": "Python 3 (ipykernel)",
   "language": "python",
   "name": "python3"
  },
  "language_info": {
   "codemirror_mode": {
    "name": "ipython",
    "version": 3
   },
   "file_extension": ".py",
   "mimetype": "text/x-python",
   "name": "python",
   "nbconvert_exporter": "python",
   "pygments_lexer": "ipython3",
   "version": "3.10.6"
  }
 },
 "nbformat": 4,
 "nbformat_minor": 1
}
