{
 "cells": [
  {
   "cell_type": "markdown",
   "metadata": {
    "id": "1NHMOil6azxL"
   },
   "source": [
    "**Упражнение 1.**\n",
    "Перед вами фрагмент кода, содержащего некоторую проблему. Всегда ли counter = 10 после запуска программы?"
   ]
  },
  {
   "cell_type": "code",
   "execution_count": 3,
   "metadata": {
    "colab": {
     "base_uri": "https://localhost:8080/"
    },
    "id": "TxjKFX_rbBaU",
    "outputId": "a4e446cf-894f-49af-f9de-9ef90479b11a"
   },
   "outputs": [
    {
     "name": "stdout",
     "output_type": "stream",
     "text": [
      "1 2 3 4 5 6 7 8 9 10 10\n"
     ]
    }
   ],
   "source": [
    "import threading\n",
    "import sys\n",
    "\n",
    "def thread_job():\n",
    "    global counter\n",
    "    old_counter = counter\n",
    "    counter = old_counter + 1\n",
    "    print('{} '.format(counter), end='')\n",
    "    sys.stdout.flush()\n",
    "\n",
    "\n",
    "counter = 0\n",
    "threads = [threading.Thread(target=thread_job) for _ in range(10)]\n",
    "for thread in threads:\n",
    "    thread.start()\n",
    "for thread in threads:\n",
    "    thread.join()\n",
    "print(counter)"
   ]
  },
  {
   "cell_type": "markdown",
   "metadata": {
    "id": "QYaijEZwbH-r"
   },
   "source": [
    "Для наглядности продемонстрируем \"проблему\""
   ]
  },
  {
   "cell_type": "code",
   "execution_count": 4,
   "metadata": {
    "colab": {
     "base_uri": "https://localhost:8080/"
    },
    "id": "pHor5lo3bByf",
    "outputId": "79e014ed-437b-4928-e9b8-3d2c17d9926b"
   },
   "outputs": [
    {
     "name": "stdout",
     "output_type": "stream",
     "text": [
      "1 2 3 4 5 1 1 1 1 1 1\n"
     ]
    }
   ],
   "source": [
    "import threading\n",
    "import random\n",
    "import time\n",
    "import sys\n",
    "\n",
    "def thread_job():\n",
    "    global counter\n",
    "    old_counter = counter\n",
    "    time.sleep(random.randint(0, 1))\n",
    "    counter = old_counter + 1\n",
    "    print('{} '.format(counter), end='')\n",
    "    sys.stdout.flush()\n",
    "\n",
    "\n",
    "counter = 0\n",
    "threads = [threading.Thread(target=thread_job) for _ in range(10)]\n",
    "for thread in threads:\n",
    "    thread.start()\n",
    "for thread in threads:\n",
    "    thread.join()\n",
    "print(counter)"
   ]
  },
  {
   "cell_type": "markdown",
   "metadata": {
    "id": "4clHV29vbNly"
   },
   "source": [
    "**Объясните почему так происходит?**\n",
    "\n"
   ]
  },
  {
   "attachments": {},
   "cell_type": "markdown",
   "metadata": {},
   "source": [
    "Причина наблюдаемой проблемы лежит в возникновении так называемого \"race condition\" (*состояния гонки*), т.е. такого состояния, когда результат выполнения программы зависит от порядка выполнения частей программы. \n",
    "\n",
    "В данном случае несколько потоков имеют общий ресурс (переменная `counter`), над которым они выполняют неатомарную операцию инкремента. Из-за этого в программе может сложиться ситуация, когда два или более потоков могут прочесть одно и то же значение переменной `counter`, прибавить к нему `1`, после чего записать полученное значение обратно в `counter`, что приводит к нарушению ожидаемой логики работы программы.\n",
    "\n",
    "Решением данной проблемы может стать использование мьютексов. В языке Python мьютексы представлены объектом `threading.Lock`, который позволяет останавливать резервировать определенный ресурс до окончания выполнения операций над ним и предотвратить доступ к нему из других частей программы."
   ]
  },
  {
   "cell_type": "markdown",
   "metadata": {
    "id": "VU5ES-s0bQIh"
   },
   "source": [
    "**Исправьте проблему.**\n"
   ]
  },
  {
   "cell_type": "code",
   "execution_count": 11,
   "metadata": {
    "colab": {
     "base_uri": "https://localhost:8080/"
    },
    "id": "OFEwqZbTLygK",
    "outputId": "897170a0-1708-4551-8cab-8e6748680742"
   },
   "outputs": [
    {
     "name": "stdout",
     "output_type": "stream",
     "text": [
      "1 2 3 4 5 6 7 8 9 10 10\n"
     ]
    }
   ],
   "source": [
    "import threading, random, time, sys\n",
    "\n",
    "from threading import Lock\n",
    "\n",
    "counter_lock = Lock()\n",
    "\n",
    "def thread_job():\n",
    "    global counter\n",
    "    with counter_lock:\n",
    "        old_counter = counter\n",
    "        time.sleep(random.randint(0, 1))\n",
    "        counter = old_counter + 1\n",
    "    print('{} '.format(counter), end='')\n",
    "    sys.stdout.flush()\n",
    "\n",
    "\n",
    "counter = 0\n",
    "threads = [threading.Thread(target=thread_job) for _ in range(10)]\n",
    "for thread in threads:\n",
    "    thread.start()\n",
    "for thread in threads:\n",
    "    thread.join()\n",
    "print(counter)"
   ]
  },
  {
   "cell_type": "markdown",
   "metadata": {
    "id": "BuCnLYuMbTmq"
   },
   "source": [
    "**Упражнение 2.**\n",
    "Программист хочет узнать доступность набора ip адресов. Он реализовал программу. Почему она неэффективна? Переделайте с использованием threading. Измерить время с применением потоков и без них. Объяснить результат."
   ]
  },
  {
   "cell_type": "code",
   "execution_count": null,
   "metadata": {
    "colab": {
     "base_uri": "https://localhost:8080/"
    },
    "id": "iZ5evZ6blYZo",
    "outputId": "de4e8256-54d8-49f9-c669-b43dda64d5c7"
   },
   "outputs": [],
   "source": [
    "import os, re\n",
    "\n",
    "received_packages = re.compile(r\"(\\d) received\")\n",
    "\n",
    "def status(x):\n",
    "    if x == 0:\n",
    "        return \"no response\"\n",
    "    elif x == 1:\n",
    "        return \"losses\"\n",
    "    elif x == 2:\n",
    "        return \"alive\"\n",
    "\n",
    "time0 = time.time()\n",
    "\n",
    "for suffix in range(0, 100):\n",
    "    ip = \"192.168.178.\" + str(suffix)\n",
    "    ping_out = os.popen(\"ping -q -c2 \" + ip, \"r\")  # получение вердикта\n",
    "    #print(\"... pinging \", ip)\n",
    "    while True:\n",
    "        line = ping_out.readline()\n",
    "        if not line:\n",
    "            break\n",
    "        n_received = received_packages.findall(line)\n",
    "        #if n_received:\n",
    "    print(\"Status: \", ip, status(-1))\n",
    "\n",
    "print(f\"time: \", time.time() - time0)"
   ]
  },
  {
   "attachments": {},
   "cell_type": "markdown",
   "metadata": {},
   "source": [
    "**Оптимизированная реализация:**"
   ]
  },
  {
   "cell_type": "code",
   "execution_count": 1,
   "metadata": {},
   "outputs": [
    {
     "name": "stdout",
     "output_type": "stream",
     "text": [
      "Status:  192.168.178.14 no response\n",
      "Status:  192.168.178.17 no response\n",
      "Status:  192.168.178.12 no response\n",
      "Status:  192.168.178.1 no response\n",
      "Status:  192.168.178.4 no response\n",
      "Status:  192.168.178.15 no response\n",
      "Status:  192.168.178.8 no response\n",
      "Status:  192.168.178.24 no response\n",
      "Status:  192.168.178.5 no response\n",
      "Status:  192.168.178.7 no response\n",
      "Status:  192.168.178.18 no response\n",
      "Status:  192.168.178.13 no response\n",
      "Status:  192.168.178.22 no response\n",
      "Status:  192.168.178.10 no response\n",
      "Status:  192.168.178.23 no response\n",
      "Status:  192.168.178.16 no response\n",
      "Status:  192.168.178.9 no response\n",
      "Status:  192.168.178.25 no response\n",
      "Status:  192.168.178.21 no response\n",
      "Status:  192.168.178.2 no response\n",
      "Status:  192.168.178.6 no response\n",
      "Status:  192.168.178.0 no response\n",
      "Status:  192.168.178.20 no response\n",
      "Status:  192.168.178.19 no response\n",
      "Status:  192.168.178.3 no response\n",
      "Status:  192.168.178.11 no response\n",
      "Status:  192.168.178.46 no response\n",
      "Status:  192.168.178.30 no response\n",
      "Status:  192.168.178.29 no response\n",
      "Status:  192.168.178.28 no response\n",
      "Status:  192.168.178.49 no response\n",
      "Status:  192.168.178.32 no response\n",
      "Status:  192.168.178.48 no response\n",
      "Status:  192.168.178.42 no response\n",
      "Status:  192.168.178.37 no response\n",
      "Status:  192.168.178.47 no response\n",
      "Status:  192.168.178.33 no response\n",
      "Status:  192.168.178.27 no response\n",
      "Status:  192.168.178.41 no response\n",
      "Status:  192.168.178.39 no response\n",
      "Status:  192.168.178.36 no response\n",
      "Status:  192.168.178.43 no response\n",
      "Status:  192.168.178.44 no response\n",
      "Status:  192.168.178.38 no response\n",
      "Status:  192.168.178.34 no response\n",
      "Status:  192.168.178.26 no response\n",
      "Status:  192.168.178.35 no response\n",
      "Status:  192.168.178.31 no response\n",
      "Status:  192.168.178.40 no response\n",
      "Status:  192.168.178.45 no response\n",
      "Status:  192.168.178.97 no response\n",
      "Status:  192.168.178.75 no response\n",
      "Status:  192.168.178.68 no response\n",
      "Status:  192.168.178.83 no response\n",
      "Status:  192.168.178.51 no response\n",
      "Status:  192.168.178.77 no response\n",
      "Status:  192.168.178.73 no response\n",
      "Status:  192.168.178.55 no response\n",
      "Status:  192.168.178.58 no response\n",
      "Status:  192.168.178.92 no response\n",
      "Status:  192.168.178.80 no response\n",
      "Status:  192.168.178.56 no response\n",
      "Status:  192.168.178.89 no response\n",
      "Status:  192.168.178.62 no response\n",
      "Status:  192.168.178.50 no response\n",
      "Status:  192.168.178.66 no response\n",
      "Status:  192.168.178.99 no response\n",
      "Status:  192.168.178.59 no response\n",
      "Status:  192.168.178.52 no response\n",
      "Status:  192.168.178.54 no response\n",
      "Status:  192.168.178.91 no response\n",
      "Status:  192.168.178.88 no response\n",
      "Status:  192.168.178.82 no response\n",
      "Status:  192.168.178.60 no response\n",
      "Status:  192.168.178.90 no response\n",
      "Status:  192.168.178.70 no response\n",
      "Status:  192.168.178.65 no response\n",
      "Status:  192.168.178.69 no response\n",
      "Status:  192.168.178.76 no response\n",
      "Status:  192.168.178.95 no response\n",
      "Status:  192.168.178.67 no response\n",
      "Status:  192.168.178.57 no response\n",
      "Status:  192.168.178.93 no response\n",
      "Status:  192.168.178.61 no response\n",
      "Status:  192.168.178.71 no response\n",
      "Status:  192.168.178.96 no response\n",
      "Status:  192.168.178.86 no response\n",
      "Status:  192.168.178.94 no response\n",
      "Status:  192.168.178.72 no response\n",
      "Status:  192.168.178.79 no response\n",
      "Status:  192.168.178.74 no response\n",
      "Status:  192.168.178.78 no response\n",
      "Status:  192.168.178.98 no response\n",
      "Status:  192.168.178.87 no response\n",
      "Status:  192.168.178.64 no response\n",
      "Status:  192.168.178.84 no response\n",
      "Status:  192.168.178.53 no response\n",
      "Status:  192.168.178.63 no response\n",
      "Status:  192.168.178.85 no response\n",
      "Status:  192.168.178.81 no response\n",
      "time:  11.170095205307007\n"
     ]
    }
   ],
   "source": [
    "import os\n",
    "import re\n",
    "import time\n",
    "import threading\n",
    "\n",
    "print_lock = threading.Lock()\n",
    "\n",
    "received_packages = re.compile(r\"(\\d) received\")\n",
    "\n",
    "\n",
    "def status(x):\n",
    "    if x == '0':\n",
    "        return \"no response\"\n",
    "    elif x == '1':\n",
    "        return \"losses\"\n",
    "    elif x == '2':\n",
    "        return \"alive\"\n",
    "\n",
    "# этот код некорректно выполнится на Google Colab (в нем нет команды ping)\n",
    "def ping(address):\n",
    "    ping_out = os.popen(\"ping -q -c2 \" + address, \"r\")\n",
    "    while line := ping_out.readline():\n",
    "        matches = received_packages.findall(line)\n",
    "        if len(matches) > 0:\n",
    "            n_received = matches[0]\n",
    "    with print_lock:\n",
    "        print(\"Status: \", address, status(n_received))\n",
    "\n",
    "\n",
    "time0 = time.time()\n",
    "\n",
    "addresses = [f'192.168.178.{suffix}' for suffix in range(0, 100)]\n",
    "\n",
    "threads = [threading.Thread(target=ping, args=(address, ))\n",
    "           for address in addresses]\n",
    "for thread in threads:\n",
    "    thread.start()\n",
    "for thread in threads:\n",
    "    thread.join()\n",
    "\n",
    "print(f\"time: \", time.time() - time0)"
   ]
  },
  {
   "cell_type": "markdown",
   "metadata": {
    "id": "IvuAGiNw_9LK"
   },
   "source": [
    "**Объясните:**\n"
   ]
  },
  {
   "attachments": {},
   "cell_type": "markdown",
   "metadata": {},
   "source": [
    "Данная программа выполняет последовательность из 100 задач, каждую из которых можно разделить на две части: выполнение сетевого запроса и запись результата в консоль. Каждый сетевой запрос занимает значительное количество времени (~11с), поэтому суммарное время выполнения 100 задач составляет примерно 1100c. \n",
    "\n",
    "Данную программу можно оптимизировать, сделав выполнение задач параллельным. При этом важно помнить, что задачи требуют использование общего ресурса (стандартного потока вывода), поэтому следует ограничить доступ к нему, например, с помощью объекта `threading.Lock`.\n",
    "\n",
    "|Способ|Время (c)|\n",
    "|:-|:-:|\n",
    "|Последовательное выполнение|1100.97|\n",
    "|Параллельное выполнение|11.175|"
   ]
  },
  {
   "cell_type": "markdown",
   "metadata": {
    "id": "HpGKbeuabwEa"
   },
   "source": [
    "**Упражнение 3.**\n",
    "Составить программу, которая считает сумму элементов массива (создать из K значений и заполнить случайным образом) с использованием N потоков. Запустить с разным параметром N (2, 4, 8, 16, 32, 64). Объяснить результат (потребуется измерить время)."
   ]
  },
  {
   "cell_type": "code",
   "execution_count": 7,
   "metadata": {},
   "outputs": [],
   "source": [
    "from random import uniform\n",
    "from threading import Thread, Lock\n",
    "\n",
    "def sum_array_multithread(arr, num_threads):\n",
    "    arr_sum = 0\n",
    "    arr_sum_lock = Lock()\n",
    "\n",
    "    def task(task_num):\n",
    "        nonlocal arr_sum\n",
    "        local_sum = sum(arr[task_num::num_threads])\n",
    "        with arr_sum_lock:\n",
    "            arr_sum = arr_sum + local_sum\n",
    "\n",
    "    threads = [Thread(target=task, args=(i, )) for i in range(0, num_threads)]\n",
    "    for thread in threads:\n",
    "        thread.start()\n",
    "    for thread in threads:\n",
    "        thread.join()\n",
    "\n",
    "    return arr_sum"
   ]
  },
  {
   "cell_type": "code",
   "execution_count": 8,
   "metadata": {},
   "outputs": [],
   "source": [
    "from random import uniform\n",
    "\n",
    "k = 1024 * 1024 * 8\n",
    "arr = [uniform(0, 100) for _ in range(0, k)]"
   ]
  },
  {
   "cell_type": "code",
   "execution_count": 9,
   "metadata": {},
   "outputs": [
    {
     "name": "stdout",
     "output_type": "stream",
     "text": [
      "680 ms ± 71.3 ms per loop (mean ± std. dev. of 7 runs, 1 loop each)\n",
      "871 ms ± 95.1 ms per loop (mean ± std. dev. of 7 runs, 1 loop each)\n",
      "1.09 s ± 9.14 ms per loop (mean ± std. dev. of 7 runs, 1 loop each)\n",
      "1.45 s ± 30.4 ms per loop (mean ± std. dev. of 7 runs, 1 loop each)\n",
      "2.52 s ± 336 ms per loop (mean ± std. dev. of 7 runs, 1 loop each)\n",
      "2.67 s ± 197 ms per loop (mean ± std. dev. of 7 runs, 1 loop each)\n"
     ]
    }
   ],
   "source": [
    "%timeit sum_array_multithread(arr, 2)\n",
    "%timeit sum_array_multithread(arr, 4)\n",
    "%timeit sum_array_multithread(arr, 8)\n",
    "%timeit sum_array_multithread(arr, 16)\n",
    "%timeit sum_array_multithread(arr, 32)\n",
    "%timeit sum_array_multithread(arr, 64)"
   ]
  },
  {
   "attachments": {},
   "cell_type": "markdown",
   "metadata": {},
   "source": [
    "**Объяснение:**\n",
    "\n",
    "Время работы программы растет с ростом количества потоков. Это можно объяснить тем фактом, что потоки не дают прироста в скорости вычислений, так как не могут выполняться одновременно (из-за GIL), при этом создание потоков является затратной операцией, что негативно влияет на время исполнения программы."
   ]
  },
  {
   "cell_type": "markdown",
   "metadata": {
    "id": "H_9uv_OocG_e"
   },
   "source": [
    "**Упражнение 4.** Запустите на исполнение следующий фрагмент кода, замерив время работы. Перепишите с помощью потоков и опять замерьте время. Объясните результат."
   ]
  },
  {
   "cell_type": "code",
   "execution_count": null,
   "metadata": {
    "colab": {
     "base_uri": "https://localhost:8080/"
    },
    "id": "6AlJ7e7zbcW3",
    "outputId": "e4eb75c8-76e8-4d46-abfc-6b1491a992e1"
   },
   "outputs": [
    {
     "name": "stdout",
     "output_type": "stream",
     "text": [
      "3.8154046535491943\n"
     ]
    }
   ],
   "source": [
    "import urllib.request\n",
    "import time\n",
    "\n",
    "\n",
    "urls = [\n",
    "    'https://www.yandex.ru', 'https://www.google.com',\n",
    "    'https://habrahabr.ru', 'https://www.python.org',\n",
    "    'https://isocpp.org',\n",
    "]\n",
    "\n",
    "\n",
    "def read_url(url):\n",
    "    with urllib.request.urlopen(url) as u:\n",
    "        return u.read()\n",
    "\n",
    "\n",
    "start = time.time()\n",
    "for url in urls:\n",
    "    read_url(url)\n",
    "print(time.time() - start)"
   ]
  },
  {
   "attachments": {},
   "cell_type": "markdown",
   "metadata": {},
   "source": [
    "**Оптимизированная программа:**"
   ]
  },
  {
   "cell_type": "code",
   "execution_count": null,
   "metadata": {},
   "outputs": [
    {
     "name": "stdout",
     "output_type": "stream",
     "text": [
      "1.1073436737060547\n"
     ]
    }
   ],
   "source": [
    "import urllib.request\n",
    "import time\n",
    "from threading import Thread\n",
    "\n",
    "urls = [\n",
    "    'https://www.yandex.ru', 'https://www.google.com',\n",
    "    'https://habrahabr.ru', 'https://www.python.org',\n",
    "    'https://isocpp.org',\n",
    "]\n",
    "\n",
    "\n",
    "def read_url(url):\n",
    "    with urllib.request.urlopen(url) as u:\n",
    "        return u.read()\n",
    "\n",
    "\n",
    "start = time.time()\n",
    "\n",
    "threads = [Thread(target=read_url, args=(url, )) for url in urls]\n",
    "for thread in threads:\n",
    "    thread.start()\n",
    "for thread in threads:\n",
    "    thread.join()\n",
    "\n",
    "print(time.time() - start)"
   ]
  },
  {
   "attachments": {},
   "cell_type": "markdown",
   "metadata": {},
   "source": [
    "**Результат:**\n",
    "\n",
    "|Программа|Время (с)|\n",
    "|-|:-:|\n",
    "|Исходная|3,8|\n",
    "|Оптимизированная|1,1|\n",
    "\n",
    "**Объяснение:**\n",
    "\n",
    "Уменьшение времени выполнения оптимизированной программы происходит по причине того, что в ней использован механизм многопоточного выполнения задач, позволяющий производить несколько действий параллельно, тем самым экономя время в сравнении с исходной реализацией, которая выполняет задачи последовательно."
   ]
  },
  {
   "cell_type": "markdown",
   "metadata": {
    "id": "amwNdaOZcX_Y"
   },
   "source": [
    "**Упражнение 5.**\n",
    "Составить программу, которая имеет общие ресурсы для нескольких потоков. Например, есть общая переменная, один поток добавляет 1, второй увеличивает значение в 2 раза. Написать с использованием Lock. Продемонстрировать проблему взаимной блокировки. Исправить её, написав код с использованием RLock блокировки."
   ]
  },
  {
   "cell_type": "code",
   "execution_count": null,
   "metadata": {},
   "outputs": [
    {
     "ename": "KeyboardInterrupt",
     "evalue": "",
     "output_type": "error",
     "traceback": [
      "\u001b[0;31m---------------------------------------------------------------------------\u001b[0m",
      "\u001b[0;31mKeyboardInterrupt\u001b[0m                         Traceback (most recent call last)",
      "Cell \u001b[0;32mIn[11], line 28\u001b[0m\n\u001b[1;32m     26\u001b[0m     thread\u001b[39m.\u001b[39mstart()\n\u001b[1;32m     27\u001b[0m \u001b[39mfor\u001b[39;00m thread \u001b[39min\u001b[39;00m threads:\n\u001b[0;32m---> 28\u001b[0m     thread\u001b[39m.\u001b[39;49mjoin()\n\u001b[1;32m     30\u001b[0m \u001b[39mprint\u001b[39m(value)\n",
      "File \u001b[0;32m/usr/lib/python3.10/threading.py:1096\u001b[0m, in \u001b[0;36mThread.join\u001b[0;34m(self, timeout)\u001b[0m\n\u001b[1;32m   1093\u001b[0m     \u001b[39mraise\u001b[39;00m \u001b[39mRuntimeError\u001b[39;00m(\u001b[39m\"\u001b[39m\u001b[39mcannot join current thread\u001b[39m\u001b[39m\"\u001b[39m)\n\u001b[1;32m   1095\u001b[0m \u001b[39mif\u001b[39;00m timeout \u001b[39mis\u001b[39;00m \u001b[39mNone\u001b[39;00m:\n\u001b[0;32m-> 1096\u001b[0m     \u001b[39mself\u001b[39;49m\u001b[39m.\u001b[39;49m_wait_for_tstate_lock()\n\u001b[1;32m   1097\u001b[0m \u001b[39melse\u001b[39;00m:\n\u001b[1;32m   1098\u001b[0m     \u001b[39m# the behavior of a negative timeout isn't documented, but\u001b[39;00m\n\u001b[1;32m   1099\u001b[0m     \u001b[39m# historically .join(timeout=x) for x<0 has acted as if timeout=0\u001b[39;00m\n\u001b[1;32m   1100\u001b[0m     \u001b[39mself\u001b[39m\u001b[39m.\u001b[39m_wait_for_tstate_lock(timeout\u001b[39m=\u001b[39m\u001b[39mmax\u001b[39m(timeout, \u001b[39m0\u001b[39m))\n",
      "File \u001b[0;32m/usr/lib/python3.10/threading.py:1116\u001b[0m, in \u001b[0;36mThread._wait_for_tstate_lock\u001b[0;34m(self, block, timeout)\u001b[0m\n\u001b[1;32m   1113\u001b[0m     \u001b[39mreturn\u001b[39;00m\n\u001b[1;32m   1115\u001b[0m \u001b[39mtry\u001b[39;00m:\n\u001b[0;32m-> 1116\u001b[0m     \u001b[39mif\u001b[39;00m lock\u001b[39m.\u001b[39;49macquire(block, timeout):\n\u001b[1;32m   1117\u001b[0m         lock\u001b[39m.\u001b[39mrelease()\n\u001b[1;32m   1118\u001b[0m         \u001b[39mself\u001b[39m\u001b[39m.\u001b[39m_stop()\n",
      "\u001b[0;31mKeyboardInterrupt\u001b[0m: "
     ]
    }
   ],
   "source": [
    "# эта программа никогда не выполнится\n",
    "from threading import Thread, Lock\n",
    "\n",
    "value = 0\n",
    "lock = Lock()\n",
    "\n",
    "\n",
    "def increment():\n",
    "    global value\n",
    "    with lock:\n",
    "        value += 1\n",
    "\n",
    "\n",
    "def double():\n",
    "    global value\n",
    "    with lock:\n",
    "        saved = value\n",
    "        while value - saved != saved:\n",
    "            increment()\n",
    "\n",
    "\n",
    "threads = [\n",
    "    Thread(target=increment),\n",
    "    Thread(target=double)\n",
    "]\n",
    "for thread in threads:\n",
    "    thread.start()\n",
    "for thread in threads:\n",
    "    thread.join()\n",
    "\n",
    "print(value)\n"
   ]
  },
  {
   "attachments": {},
   "cell_type": "markdown",
   "metadata": {},
   "source": [
    "**Объяснение:**\n",
    "\n",
    "Код выше попадает в deadlock когда второй поток вызывает функцию `increment()`, так как в ней ожидается освобождение ресурса, занятого самим вторым потоком. Данная проблема решается использованием `threading.RLock`, который в отличие от `threading.Lock` позволяет повторно блокировать ресурс, если первая блокировка произошла в этом же потоке."
   ]
  },
  {
   "cell_type": "code",
   "execution_count": null,
   "metadata": {},
   "outputs": [
    {
     "name": "stdout",
     "output_type": "stream",
     "text": [
      "2\n"
     ]
    }
   ],
   "source": [
    "from threading import Thread, RLock\n",
    "\n",
    "value = 0\n",
    "lock = RLock()\n",
    "\n",
    "\n",
    "def increment():\n",
    "    global value\n",
    "    with lock:\n",
    "        value += 1\n",
    "\n",
    "\n",
    "def double():\n",
    "    global value\n",
    "    with lock:\n",
    "        saved = value\n",
    "        while value - saved != saved:\n",
    "            increment()\n",
    "\n",
    "\n",
    "threads = [\n",
    "    Thread(target=increment),\n",
    "    Thread(target=double)\n",
    "]\n",
    "for thread in threads:\n",
    "    thread.start()\n",
    "for thread in threads:\n",
    "    thread.join()\n",
    "\n",
    "print(value)"
   ]
  }
 ],
 "metadata": {
  "colab": {
   "provenance": []
  },
  "kernelspec": {
   "display_name": "Python 3 (ipykernel)",
   "language": "python",
   "name": "python3"
  },
  "language_info": {
   "codemirror_mode": {
    "name": "ipython",
    "version": 3
   },
   "file_extension": ".py",
   "mimetype": "text/x-python",
   "name": "python",
   "nbconvert_exporter": "python",
   "pygments_lexer": "ipython3",
   "version": "3.10.6"
  }
 },
 "nbformat": 4,
 "nbformat_minor": 1
}
