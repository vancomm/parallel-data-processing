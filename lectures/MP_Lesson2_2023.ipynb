{
 "cells": [
  {
   "cell_type": "markdown",
   "id": "37664dc5",
   "metadata": {},
   "source": [
    "Взаимоисключение (mutual exclusion, сокращённо  —  mutex)  — «флажок», переходящий к потоку, который в данный момент имеет право работать с общими ресурсами. Исключает доступ остальных потоков к занятому участку памяти. Мьютексов в приложении может быть несколько, и они могут разделяться между процессами. Есть подвох: mutex заставляет приложение каждый раз обращаться к ядру операционной системы, что накладно.\n",
    "\n",
    "Семафор  —  позволяет вам ограничить число потоков, имеющих доступ к ресурсу в конкретный момент. Так вы снизите нагрузку на процессор при выполнении кода, где есть узкие места. Проблема в том, что оптимальное число потоков зависит от машины пользователя.\n",
    "\n",
    "Событие  —  вы определяете условие, при наступлении которого управление передаётся нужному потоку. Данными о событиях потоки обмениваются, чтобы развивать и логически продолжать действия друг друга. Один получил данные, другой проверил их корректность, третий  —  сохранил на жёсткий диск. События различаются по способу отмены сигнала о них. Если нужно уведомить о событии несколько потоков, для остановки сигнала придётся вручную ставить функцию отмены. Если же целевой поток только один, можно создать событие с автоматическим сбросом. Оно само остановит сигнал, после того как он дойдёт до потока. Для гибкого управления потоками события можно выстраивать в очередь.\n",
    "\n",
    "Критическая секция  — более сложный механизм, который объединяет в себе счётчик цикла и семафор. Счётчик позволяет отложить запуск семафора на нужное время. Преимущество в том, что ядро задействуется лишь в случае, если секция занята и нужно включать семафор. В остальное время поток выполняется в пользовательском режиме. Увы, секцию можно использовать только внутри одного процесса."
   ]
  },
  {
   "cell_type": "code",
   "execution_count": 2,
   "id": "c38cd724",
   "metadata": {},
   "outputs": [
    {
     "name": "stdout",
     "output_type": "stream",
     "text": [
      "Время выполнения:  0:00:03.775813\n"
     ]
    }
   ],
   "source": [
    "from datetime import datetime\n",
    "import threading\n",
    "def factorial(number): \n",
    "    fact = 1\n",
    "    for n in range(1, number+1): \n",
    "        fact *= n \n",
    "    return fact \n",
    "number = 100000 \n",
    "thread = threading.Thread(target=factorial, args=(number,)) \n",
    "startTime = datetime.now() \n",
    "thread.start() \n",
    "thread.join()\n",
    "\n",
    "endTime = datetime.now() \n",
    "print(\"Время выполнения: \", endTime - startTime)"
   ]
  },
  {
   "cell_type": "markdown",
   "id": "24fe8651",
   "metadata": {},
   "source": [
    "глобальный шлюз (Global Interpreter Lock, он же GIL), который ограничивает многопоточность на уровне интерпретатора"
   ]
  },
  {
   "cell_type": "code",
   "execution_count": 3,
   "id": "28843b53",
   "metadata": {},
   "outputs": [
    {
     "name": "stdout",
     "output_type": "stream",
     "text": [
      "Время выполнения:  0:00:07.525986\n"
     ]
    }
   ],
   "source": [
    "from datetime import datetime\n",
    "import threading\n",
    "def factorial(number): \n",
    "    fact = 1\n",
    "    for n in range(1, number+1): \n",
    "        fact *= n \n",
    "    return fact \n",
    "number = 100000 \n",
    "thread = threading.Thread(target=factorial, args=(number,))\n",
    "thread2 = threading.Thread(target=factorial, args=(number,))\n",
    "startTime = datetime.now() \n",
    "thread.start() \n",
    "thread2.start() \n",
    "thread.join()\n",
    "thread2.join()\n",
    "\n",
    "endTime = datetime.now() \n",
    "print(\"Время выполнения: \", endTime - startTime)"
   ]
  },
  {
   "cell_type": "markdown",
   "id": "8ca7b136",
   "metadata": {},
   "source": [
    "Numpy, Scipy, Numba"
   ]
  },
  {
   "cell_type": "markdown",
   "id": "63035406",
   "metadata": {},
   "source": [
    "Numba — динамически, «на лету» компилирует Python-код, превращая его в машинный код для исполнения на CPU и GPU. Такая технология компиляции называется JIT — “Just in time”. Она помогает оптимизировать производительность программ за счет ускорения работы циклов и компиляции функций при первом запуске."
   ]
  },
  {
   "cell_type": "code",
   "execution_count": 5,
   "id": "172e304b",
   "metadata": {},
   "outputs": [],
   "source": [
    "from numba import jit\n",
    "@jit\n",
    "def arr_sum(x,y): \n",
    "    result_arr = nupmy.empty_like ( x)\n",
    "    for i in range (len (x)) : \n",
    "        result_arr [i ] = x[i ] + y[i ] \n",
    "    return result_arr"
   ]
  },
  {
   "cell_type": "markdown",
   "id": "5e78a238",
   "metadata": {},
   "source": [
    "https://habr.com/ru/post/317328/"
   ]
  },
  {
   "cell_type": "code",
   "execution_count": 6,
   "id": "69e7601a",
   "metadata": {},
   "outputs": [],
   "source": [
    "from numba import cuda\n",
    "@cuda.jit\n",
    "def call_for_kernel(io_arr):\n",
    "    # Идентификатор потока в одномерном блоке\n",
    "    thread_x = cuda.threadIdx.x\n",
    "    # Идентификатор блока в одномерной сетке\n",
    "    thread_y = cuda.blockIdx.x\n",
    "    # Число потоков на блок (т.е. ширина блока)\n",
    "    block_width = cuda.blockDim.x\n",
    "    # Находим положение в массиве\n",
    "    t_position = thread_x + thread_y * block_width\n",
    "    if  t_position < io_arr.size:  # Убеждаемся, что не вышли за границы массива\n",
    "        io_arr[ t_position] *= 2 # Считаем"
   ]
  },
  {
   "cell_type": "markdown",
   "id": "53f52e80",
   "metadata": {},
   "source": [
    "Стоит ли преодолевать связанные c GIL сложности и тратить время на реализацию многопоточности? Вот примеры ситуаций, когда многопоточность несёт с собой больше плюсов, чем минусов.\n",
    "\n",
    "-- Для длительных и несвязанных друг с другом операций ввода-вывода. Например, нужно обрабатывать ворох разрозненных запросов с большой задержкой на ожидание. В режиме «живой очереди» это долго  — лучше распараллелить задачу.\n",
    "\n",
    "-- Вычисления занимают более миллисекунды и вы хотите сэкономить время за счёт их параллельного выполнения. Если операции укладываются в 1 мс, многопоточность не оправдает себя из-за высоких накладных расходов.\n",
    "\n",
    "\n",
    "-- Число потоков не превышает количество ядер. В противном случае параллельной работы всех потоков не получается и мы больше теряем, чем выигрываем."
   ]
  },
  {
   "cell_type": "markdown",
   "id": "dcd4e5bd",
   "metadata": {},
   "source": [
    "Взаимоисключение (mutual exception, кратко — mutex) — простейшая блокировка, которая на время работы потока с ресурсом закрывает последний от других обращений. Реализуют это с помощью класса Lock."
   ]
  },
  {
   "cell_type": "code",
   "execution_count": 7,
   "id": "9b1b1d9a",
   "metadata": {},
   "outputs": [],
   "source": [
    "import threading\n",
    "mutex = threading.Lock()"
   ]
  },
  {
   "cell_type": "code",
   "execution_count": 9,
   "id": "a3c85c5a",
   "metadata": {},
   "outputs": [],
   "source": [
    "resource = 0\n",
    "\n",
    "def thread_safe_function():\n",
    "    global resource\n",
    "    for i in range(1000000):\n",
    "        mutex.acquire()\n",
    "        # Делаем что-то с переменной resource\n",
    "        mutex.release()"
   ]
  },
  {
   "cell_type": "code",
   "execution_count": 14,
   "id": "92301135",
   "metadata": {},
   "outputs": [],
   "source": [
    "import threading\n",
    "\n",
    "protected_resource = 0\n",
    "unprotected_resource = 0\n",
    "\n",
    "NUM = 5000000\n",
    "mutex = threading.Lock()\n",
    "\n",
    "# Потокобезопасный инкремент\n",
    "def safe_plus():\n",
    "    global protected_resource\n",
    "    for i in range(NUM):\n",
    "        # Ставим блокировку\n",
    "        mutex.acquire()\n",
    "        protected_resource += 1\n",
    "        mutex.release()\n",
    "\n",
    "# Потокобезопасный декремент\n",
    "def safe_minus():\n",
    "    global protected_resource\n",
    "    for i in range(NUM):\n",
    "        mutex.acquire()\n",
    "        protected_resource -= 1\n",
    "        mutex.release()\n",
    "\n",
    "# То же, но без блокировки\n",
    "def risky_plus():\n",
    "    global unprotected_resource\n",
    "    for i in range(NUM):\n",
    "        unprotected_resource += 1\n",
    "\n",
    "def risky_minus():\n",
    "    global unprotected_resource\n",
    "    for i in range(NUM):\n",
    "        unprotected_resource -= 1"
   ]
  },
  {
   "cell_type": "code",
   "execution_count": 16,
   "id": "922cee52",
   "metadata": {},
   "outputs": [
    {
     "name": "stdout",
     "output_type": "stream",
     "text": [
      "Результат при работе с блокировкой 0\n",
      "Результат без блокировки 1434995\n"
     ]
    }
   ],
   "source": [
    "thread1 = threading.Thread(target = safe_plus)\n",
    "thread2 = threading.Thread(target = safe_minus)\n",
    "thread3 = threading.Thread(target = risky_plus)\n",
    "thread4 = threading.Thread(target = risky_minus)\n",
    "thread1.start()\n",
    "thread2.start()\n",
    "thread3.start()\n",
    "thread4.start()\n",
    "thread1.join()\n",
    "thread2.join()\n",
    "thread3.join()\n",
    "thread4.join()\n",
    "print (\"Результат при работе с блокировкой %s\" % protected_resource)\n",
    "print (\"Результат без блокировки %s\" % unprotected_resource)"
   ]
  },
  {
   "cell_type": "code",
   "execution_count": 17,
   "id": "05519d5f",
   "metadata": {},
   "outputs": [
    {
     "ename": "IndentationError",
     "evalue": "expected an indented block (168032309.py, line 8)",
     "output_type": "error",
     "traceback": [
      "\u001b[0;36m  Input \u001b[0;32mIn [17]\u001b[0;36m\u001b[0m\n\u001b[0;31m    finally:\u001b[0m\n\u001b[0m    ^\u001b[0m\n\u001b[0;31mIndentationError\u001b[0m\u001b[0;31m:\u001b[0m expected an indented block\n"
     ]
    }
   ],
   "source": [
    "try:\n",
    "    mutex.acquire()\n",
    "    # Ваш код...\n",
    "\n",
    "except SomethingGoesWrong:\n",
    "    # Обрабатываем исключения\n",
    "\n",
    "finally:\n",
    "    # Ещё код\n",
    "    mutex.release()"
   ]
  },
  {
   "cell_type": "code",
   "execution_count": 18,
   "id": "d48138c7",
   "metadata": {},
   "outputs": [
    {
     "name": "stdout",
     "output_type": "stream",
     "text": [
      "client 0, service time: 1.000699758529663client 1, service time: 1.0012290477752686\n",
      "\n",
      "client 2, service time: 1.0027799606323242\n",
      "client 4, service time: 2.0063419342041016client 3, service time: 2.0071208477020264\n",
      "\n"
     ]
    }
   ],
   "source": [
    "from threading import Thread, BoundedSemaphore\n",
    "from time import sleep, time\n",
    "\n",
    "ticket_office = BoundedSemaphore(value=3)\n",
    "\n",
    "def ticket_buyer(number):\n",
    "    start_service = time()\n",
    "    with ticket_office:       \n",
    "        sleep(1)\n",
    "        print(f\"client {number}, service time: {time() - start_service}\")\n",
    "\n",
    "buyer = [Thread(target=ticket_buyer, args=(i,)) for i in range(5)]\n",
    "for b in buyer:\n",
    "    b.start()"
   ]
  },
  {
   "cell_type": "code",
   "execution_count": 21,
   "id": "b71ffb86",
   "metadata": {},
   "outputs": [
    {
     "ename": "IndentationError",
     "evalue": "unexpected indent (4132040075.py, line 11)",
     "output_type": "error",
     "traceback": [
      "\u001b[0;36m  Input \u001b[0;32mIn [21]\u001b[0;36m\u001b[0m\n\u001b[0;31m    ...\u001b[0m\n\u001b[0m    ^\u001b[0m\n\u001b[0;31mIndentationError\u001b[0m\u001b[0;31m:\u001b[0m unexpected indent\n"
     ]
    }
   ],
   "source": [
    "e = threading.Event()\n",
    "\n",
    "def event_manager():\n",
    "    # Ждём, когда кто-нибудь захватит флаг\n",
    "    e.wait()\n",
    "    ...\n",
    "    # Ставим флаг\n",
    "    e.set()\n",
    "\n",
    "    # Работаем с ресурсом\n",
    "        ...\n",
    "   # Снимаем флаг и ждём нового\n",
    "    e.clear()"
   ]
  },
  {
   "cell_type": "code",
   "execution_count": 28,
   "id": "b3b66532",
   "metadata": {},
   "outputs": [
    {
     "name": "stdout",
     "output_type": "stream",
     "text": [
      "Main thread -  7.724761962890625e-05\n",
      "Worker: wrk 0 - Worker: wrk 3 - Worker: wrk 4 -  1.0016810894012451\n",
      "Worker: wrk 1 - Worker: wrk 2 -  1.0024452209472656\n",
      " 1.0032241344451904\n",
      " 1.0022778511047363\n",
      " 1.0030951499938965\n"
     ]
    }
   ],
   "source": [
    "from threading import Thread, Event\n",
    "from time import sleep, time\n",
    "\n",
    "\n",
    "event = Event()\n",
    "\n",
    "\n",
    "def worker(name: str):   \n",
    "    event.wait()\n",
    "    print(f\"Worker: {name} - \", time() - curr_time)\n",
    "\n",
    "\n",
    "# Clear event\n",
    "event.clear()\n",
    "\n",
    "# Create and start workers\n",
    "workers = [Thread(target=worker, args=(f\"wrk {i}\",)) for i in range(5)]\n",
    "for w in workers:\n",
    "    w.start()\n",
    "curr_time = time()\n",
    "print(\"Main thread - \", time() - curr_time)\n",
    "\n",
    "sleep(1)\n",
    "event.set()"
   ]
  },
  {
   "cell_type": "code",
   "execution_count": 34,
   "id": "290a7e70",
   "metadata": {},
   "outputs": [
    {
     "name": "stderr",
     "output_type": "stream",
     "text": [
      "Exception in thread Thread-67:\n",
      "Traceback (most recent call last):\n",
      "  File \"/Users/mgordenko/opt/anaconda3/lib/python3.9/threading.py\", line 973, in _bootstrap_inner\n",
      "Exception in thread Thread-68:\n",
      "Traceback (most recent call last):\n",
      "  File \"/Users/mgordenko/opt/anaconda3/lib/python3.9/threading.py\", line 973, in _bootstrap_inner\n",
      "        self.run()\n",
      "  File \"/Users/mgordenko/opt/anaconda3/lib/python3.9/threading.py\", line 910, in run\n",
      "    self._target(*self._args, **self._kwargs)\n",
      "  File \"/var/folders/2x/wnh_0jw147xg4qlczcty3m9w0000gn/T/ipykernel_10646/3368899187.py\", line 26, in walkthrough\n",
      "self.run()\n",
      "  File \"/Users/mgordenko/opt/anaconda3/lib/python3.9/threading.py\", line 910, in run\n",
      "    self._target(*self._args, **self._kwargs)\n",
      "  File \"/var/folders/2x/wnh_0jw147xg4qlczcty3m9w0000gn/T/ipykernel_10646/3368899187.py\", line 26, in walkthrough\n",
      "RuntimeError: cannot release un-acquired lock\n",
      "RuntimeError: cannot release un-acquired lock\n"
     ]
    },
    {
     "name": "stdout",
     "output_type": "stream",
     "text": [
      "Random number 19Random number 37\n",
      "Doubled = 74\n",
      "\n",
      "Doubled = 148\n"
     ]
    }
   ],
   "source": [
    "import threading, random\n",
    "\n",
    "counter = 0\n",
    "re_mutex = threading.RLock()\n",
    "\n",
    "def step_one():\n",
    "    global counter\n",
    "#     re_mutex.acquire()\n",
    "    counter = random.randint(1,100)\n",
    "    print(\"Random number %s\" % counter)\n",
    "#     re_mutex.release()\n",
    "\n",
    "def step_two():\n",
    "    global counter\n",
    "#     re_mutex.acquire()\n",
    "    counter *= 2\n",
    "    print(\"Doubled = %s\" % counter)\n",
    "#     re_mutex.release()\n",
    "\n",
    "def walkthrough():\n",
    "    #re_mutex.acquire()\n",
    "    try:\n",
    "        step_one()\n",
    "        step_two()\n",
    "    finally:\n",
    "        re_mutex.release()\n",
    "\n",
    "t = threading.Thread(target = walkthrough)\n",
    "t2 = threading.Thread(target = walkthrough)\n",
    "\n",
    "t.start()\n",
    "t2.start()\n",
    "t.join()\n",
    "t2.join()"
   ]
  },
  {
   "cell_type": "code",
   "execution_count": null,
   "id": "72cdedab",
   "metadata": {},
   "outputs": [],
   "source": [
    "from threading import Condition, Thread\n",
    "from queue import Queue\n",
    "from time import sleep\n",
    "\n",
    "\n",
    "cv = Condition()\n",
    "q = Queue()\n",
    "\n",
    "\n",
    "# Consumer function for order processing\n",
    "def order_processor(name):\n",
    "    while True:\n",
    "        with cv:\n",
    "           # Wait while queue is empty\n",
    "           while q.empty():\n",
    "                cv.wait()\n",
    "           try:\n",
    "               # Get data (order) from queue\n",
    "               order = q.get_nowait()\n",
    "               print(f\"{name}: {order}\")\n",
    "\n",
    "               # If get \"stop\" message then stop thread\n",
    "               if order == \"stop\":                   \n",
    "                   break\n",
    "\n",
    "           except:\n",
    "               pass\n",
    "\n",
    "           sleep(0.1)\n",
    "\n",
    "\n",
    "# Run order processors\n",
    "Thread(target=order_processor, args=(\"thread 1\",)).start()\n",
    "Thread(target=order_processor, args=(\"thread 2\",)).start()\n",
    "Thread(target=order_processor, args=(\"thread 3\",)).start()\n",
    "\n",
    "# Put data into queue\n",
    "for i in range(10):\n",
    "   q.put(f\"order {i}\")\n",
    "\n",
    "# Put stop-commands for consumers\n",
    "for _ in range(3):\n",
    "   q.put(\"stop\")\n",
    "\n",
    "# Notify all consumers\n",
    "with cv:\n",
    "   cv.notify_all()"
   ]
  },
  {
   "cell_type": "code",
   "execution_count": 36,
   "id": "731ef224",
   "metadata": {},
   "outputs": [],
   "source": [
    "# Создаём рекурсивную блокировку\n",
    "mutex = threading.RLock()\n",
    "\n",
    "# Создаём переменную состояния и связываем с блокировкой\n",
    "cond = threading.Condition(mutex)\n",
    "\n",
    "# Поток-потребитель ждёт свободного ресурса и захватывает его\n",
    "def consumer():\n",
    "    while True:\n",
    "            cond.acquire()\n",
    "            while not resourse_free():\n",
    "                cond.wait()\n",
    "            get_free_resource()\n",
    "            cond.release()\n",
    "\n",
    "# Поток-производитель разблокирует ресурс и уведомляет об этом потребителя\n",
    "def producer():\n",
    "    while True:\n",
    "            cond.acquire()\n",
    "            unblock_resource()\n",
    "            # Сигналим потоку: \"Налетай на новые данные!\"\n",
    "            cond.notify()\n",
    "            cond.release()"
   ]
  },
  {
   "cell_type": "code",
   "execution_count": 40,
   "id": "11052b33",
   "metadata": {},
   "outputs": [],
   "source": [
    "def safe_plus():\n",
    "    global protected_resource\n",
    "    for i in range(NUM):\n",
    "        with mutex:\n",
    "            protected_resource += 1"
   ]
  },
  {
   "cell_type": "code",
   "execution_count": 42,
   "id": "63facb90",
   "metadata": {},
   "outputs": [
    {
     "name": "stdout",
     "output_type": "stream",
     "text": [
      "Calc part1\n",
      "Calc part2\n",
      "Result:  23\n"
     ]
    }
   ],
   "source": [
    "from threading import Barrier, Thread\n",
    "from time import sleep, time\n",
    "\n",
    "\n",
    "br = Barrier(3)\n",
    "store = []\n",
    "\n",
    "\n",
    "def f1(x):\n",
    "   print(\"Calc part1\")\n",
    "   store.append(x**2)\n",
    "   sleep(0.5)\n",
    "   br.wait()\n",
    "\n",
    "\n",
    "def f2(x):\n",
    "   print(\"Calc part2\")\n",
    "   store.append(x*2)\n",
    "   sleep(1)\n",
    "   br.wait()\n",
    "\n",
    "\n",
    "Thread(target=f1, args=(3,)).start()\n",
    "Thread(target=f2, args=(7,)).start()\n",
    "\n",
    "br.wait()\n",
    "\n",
    "print(\"Result: \", sum(store))"
   ]
  },
  {
   "cell_type": "code",
   "execution_count": null,
   "id": "431dd78b",
   "metadata": {},
   "outputs": [],
   "source": []
  }
 ],
 "metadata": {
  "kernelspec": {
   "display_name": "Python 3 (ipykernel)",
   "language": "python",
   "name": "python3"
  },
  "language_info": {
   "codemirror_mode": {
    "name": "ipython",
    "version": 3
   },
   "file_extension": ".py",
   "mimetype": "text/x-python",
   "name": "python",
   "nbconvert_exporter": "python",
   "pygments_lexer": "ipython3",
   "version": "3.9.12"
  }
 },
 "nbformat": 4,
 "nbformat_minor": 5
}
