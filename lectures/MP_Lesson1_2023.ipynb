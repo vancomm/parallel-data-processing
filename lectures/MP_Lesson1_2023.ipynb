{
 "cells": [
  {
   "cell_type": "code",
   "execution_count": 1,
   "id": "ed708f67",
   "metadata": {},
   "outputs": [],
   "source": [
    "x = 10\n",
    "y = 20\n",
    "z = x + y"
   ]
  },
  {
   "cell_type": "markdown",
   "id": "fc2b2cf7",
   "metadata": {},
   "source": [
    "программа - интерпретатор - инструкций - ОС - память- шине - процессор (конвейер)"
   ]
  },
  {
   "cell_type": "markdown",
   "id": "c9523c65",
   "metadata": {},
   "source": [
    "Процесс - экземпляр программы, выполняемой на компьютер\n",
    "Поток - единица выполнения внутри процесса"
   ]
  },
  {
   "cell_type": "markdown",
   "id": "baaab4da",
   "metadata": {},
   "source": [
    "2 типа задача:\n",
    "- ввод/вывод I/O bound\n",
    "- CPU-bound"
   ]
  },
  {
   "cell_type": "markdown",
   "id": "15ed92db",
   "metadata": {},
   "source": [
    "совместное использование памяти"
   ]
  },
  {
   "cell_type": "code",
   "execution_count": 4,
   "id": "d856cade",
   "metadata": {},
   "outputs": [
    {
     "name": "stdout",
     "output_type": "stream",
     "text": [
      "start\n",
      "end\n",
      "start\n",
      "end\n",
      "start\n",
      "end\n",
      "3.0156336250000777\n"
     ]
    }
   ],
   "source": [
    "from time import sleep, perf_counter\n",
    "\n",
    "def task():\n",
    "    print('start')\n",
    "    sleep(1)\n",
    "    print('end')\n",
    "    \n",
    "start = perf_counter() \n",
    "task()\n",
    "task()\n",
    "task()\n",
    "end = perf_counter() \n",
    "print(end - start)"
   ]
  },
  {
   "cell_type": "code",
   "execution_count": 10,
   "id": "d1d87c40",
   "metadata": {},
   "outputs": [
    {
     "name": "stdout",
     "output_type": "stream",
     "text": [
      "start\n",
      "start\n",
      "end\n",
      "end\n",
      "1.011056917000019\n"
     ]
    }
   ],
   "source": [
    "from threading import Thread\n",
    "\n",
    "new_thread_1 = Thread(target = task)\n",
    "new_thread_2 = Thread(target = task)\n",
    "\n",
    "start = perf_counter() \n",
    "new_thread_1.start()\n",
    "new_thread_2.start()\n",
    "\n",
    "new_thread_1.join()\n",
    "new_thread_2.join()\n",
    "end = perf_counter() \n",
    "print(end - start)"
   ]
  },
  {
   "cell_type": "code",
   "execution_count": 17,
   "id": "854c2c12",
   "metadata": {
    "scrolled": true
   },
   "outputs": [
    {
     "name": "stdout",
     "output_type": "stream",
     "text": [
      "start - 1\n",
      "start - 2\n",
      "start - 3\n",
      "start - 4\n",
      "start - 5\n",
      "start - 6\n",
      "start - 7\n",
      "start - 8\n",
      "start - 9start - 10\n",
      "\n",
      "end - 1\n",
      "end - 2end - 3\n",
      "\n",
      "end - 4\n",
      "end - 6\n",
      "end - 5\n",
      "end - 7end - 8\n",
      "\n",
      "end - 9end - 10\n",
      "\n",
      "1.0231162909999512\n"
     ]
    }
   ],
   "source": [
    "def task2(id):\n",
    "    print(f'start - {id}')\n",
    "    sleep(1)\n",
    "    print(f'end - {id}')\n",
    "    \n",
    "start = perf_counter() \n",
    "threads = []\n",
    "\n",
    "for n in range(1, 11):\n",
    "    t = Thread(target = task2, args = (n, ))\n",
    "    threads.append(t)\n",
    "    t.start()\n",
    "#     t.join()\n",
    "\n",
    "for t in threads:\n",
    "    t.join()\n",
    "    \n",
    "end = perf_counter() \n",
    "print(end - start)"
   ]
  },
  {
   "cell_type": "code",
   "execution_count": 25,
   "id": "03179bee",
   "metadata": {},
   "outputs": [],
   "source": [
    "def replace(filename, s1, s2):\n",
    "    print(f'processing {filename}')\n",
    "    with open(filename, 'r') as file:\n",
    "        content = file.read()\n",
    "        \n",
    "    content = content.replace(s1, s2)\n",
    "    \n",
    "    with open(filename, 'w') as file:\n",
    "        file.write(content)"
   ]
  },
  {
   "cell_type": "code",
   "execution_count": 39,
   "id": "e989c9df",
   "metadata": {},
   "outputs": [
    {
     "name": "stdout",
     "output_type": "stream",
     "text": [
      "processing 1.txt\n",
      "processing 2.txt\n",
      "processing 3.txt\n",
      "processing 4.txt\n",
      "0.0067812499999035936\n"
     ]
    }
   ],
   "source": [
    "filenames = ['1.txt','2.txt','3.txt','4.txt']\n",
    "start = perf_counter() \n",
    "\n",
    "for file in filenames:\n",
    "    replace(file, '29', '100')\n",
    "    \n",
    "end = perf_counter() \n",
    "print(end - start)"
   ]
  },
  {
   "cell_type": "code",
   "execution_count": 40,
   "id": "4a71adba",
   "metadata": {},
   "outputs": [
    {
     "name": "stdout",
     "output_type": "stream",
     "text": [
      "processing 1.txt\n",
      "processing 2.txtprocessing 3.txt\n",
      "\n",
      "processing 4.txt\n",
      "0.009196499999916341\n"
     ]
    }
   ],
   "source": [
    "filenames = ['1.txt','2.txt','3.txt','4.txt']\n",
    "start = perf_counter() \n",
    "\n",
    "threads = [Thread(target = replace, args=(file, '29', '100')) for file in filenames]\n",
    "\n",
    "for thread in threads:\n",
    "    thread.start()\n",
    "    \n",
    "for thread in threads:\n",
    "    thread.join()\n",
    "    \n",
    "end = perf_counter() \n",
    "print(end - start)"
   ]
  },
  {
   "cell_type": "code",
   "execution_count": 41,
   "id": "01057086",
   "metadata": {},
   "outputs": [],
   "source": [
    "# t = Thread(target = f, deamon = true)\n",
    "\n",
    "# t = Thread(target = f)\n",
    "# t.deamon = True"
   ]
  },
  {
   "cell_type": "code",
   "execution_count": 2,
   "id": "bafa1d6d",
   "metadata": {},
   "outputs": [
    {
     "name": "stdout",
     "output_type": "stream",
     "text": [
      "spent 1\n",
      "spent 2\n",
      "spent 3\n",
      "spent 4\n",
      "spent 5\n"
     ]
    }
   ],
   "source": [
    "from threading import Thread\n",
    "import time\n",
    "def show_timer():\n",
    "    count = 0\n",
    "    while True:\n",
    "        count += 1\n",
    "        time.sleep(1)\n",
    "        print(f'spent {count}')\n",
    "t = Thread(target = show_timer, daemon = True)\n",
    "t.start()"
   ]
  },
  {
   "cell_type": "code",
   "execution_count": 3,
   "id": "1b5829e3",
   "metadata": {},
   "outputs": [
    {
     "name": "stdout",
     "output_type": "stream",
     "text": [
      "2\n",
      "spent 6\n",
      "spent 7\n",
      "spent 8\n",
      "spent 9\n",
      "spent 10\n"
     ]
    }
   ],
   "source": [
    "print(2)"
   ]
  },
  {
   "cell_type": "code",
   "execution_count": 4,
   "id": "7970af55",
   "metadata": {},
   "outputs": [
    {
     "name": "stdout",
     "output_type": "stream",
     "text": [
      "340\n",
      "spent 11\n",
      "spent 12\n",
      "spent 13\n",
      "spent 14\n",
      "spent 15\n"
     ]
    }
   ],
   "source": [
    "print(340)"
   ]
  },
  {
   "cell_type": "code",
   "execution_count": 16,
   "id": "dae89b80",
   "metadata": {},
   "outputs": [
    {
     "name": "stdout",
     "output_type": "stream",
     "text": [
      "exception\n",
      "10\n"
     ]
    }
   ],
   "source": [
    "from queue import Queue\n",
    "\n",
    "queue = Queue(maxsize = 2)\n",
    "# queue.put(10, block = False)\n",
    "try:\n",
    "    queue.put(10, block = False)\n",
    "    queue.put(10, block = False)\n",
    "    queue.put(10, block = False)\n",
    "except:\n",
    "    print(\"exception\")\n",
    "print(queue.get(block = False))"
   ]
  },
  {
   "cell_type": "code",
   "execution_count": 22,
   "id": "6caebb26",
   "metadata": {},
   "outputs": [
    {
     "name": "stdout",
     "output_type": "stream",
     "text": [
      "start - 1\n",
      "start - 1\n",
      "end - 1\n",
      "None\n",
      "end - 1\n",
      "None\n",
      "1.0118363330000193\n"
     ]
    }
   ],
   "source": [
    "from time import sleep, perf_counter\n",
    "from concurrent.futures import ThreadPoolExecutor\n",
    "\n",
    "def task2(id):\n",
    "    print(f'start - {id}')\n",
    "    sleep(1)\n",
    "    print(f'end - {id}')\n",
    "    \n",
    "start = perf_counter()\n",
    "\n",
    "with ThreadPoolExecutor() as executor:\n",
    "    f1 = executor.submit(task2, 1)\n",
    "    f2 = executor.submit(task2, 1)\n",
    "    \n",
    "    print(f1.result())\n",
    "    print(f2.result())\n",
    "\n",
    "end = perf_counter() \n",
    "print(end - start)"
   ]
  },
  {
   "cell_type": "code",
   "execution_count": 23,
   "id": "9d65c065",
   "metadata": {},
   "outputs": [],
   "source": [
    "# race condition"
   ]
  },
  {
   "cell_type": "code",
   "execution_count": 39,
   "id": "575d4c83",
   "metadata": {},
   "outputs": [
    {
     "name": "stdout",
     "output_type": "stream",
     "text": [
      "counter = 10\n",
      "counter = 30\n",
      "Last counter = 30\n"
     ]
    }
   ],
   "source": [
    "from threading import Thread, Lock\n",
    "from time import sleep\n",
    "\n",
    "counter = 0\n",
    "\n",
    "def increase(by):\n",
    "    global counter\n",
    "    \n",
    "    lock.acquire()\n",
    "    local_counter = counter\n",
    "    local_counter += by\n",
    "    \n",
    "    sleep(0.1)\n",
    "    \n",
    "    counter = local_counter\n",
    "    print(f'counter = {counter}')\n",
    "    lock.release()\n",
    "\n",
    "lock = Lock()\n",
    "\n",
    "t1 = Thread(target = increase, args = (10, ))  \n",
    "t2 = Thread(target = increase, args = (20, ))\n",
    "\n",
    "t1.start()\n",
    "t2.start()\n",
    "\n",
    "t1.join()\n",
    "t2.join()\n",
    "\n",
    "print(f'Last counter = {counter}')"
   ]
  },
  {
   "cell_type": "code",
   "execution_count": 42,
   "id": "183ad1a1",
   "metadata": {},
   "outputs": [
    {
     "name": "stdout",
     "output_type": "stream",
     "text": [
      "11.519557875000146\n"
     ]
    }
   ],
   "source": [
    "import time\n",
    "import multiprocessing\n",
    "\n",
    "def task3(n = 100_000_000):\n",
    "    while n >= 0:\n",
    "        n -= 1\n",
    "        \n",
    "start = perf_counter()\n",
    "\n",
    "task3()\n",
    "task3()\n",
    "\n",
    "end = perf_counter() \n",
    "print(end - start)"
   ]
  },
  {
   "cell_type": "code",
   "execution_count": 1,
   "id": "14a94b02",
   "metadata": {},
   "outputs": [
    {
     "ename": "NameError",
     "evalue": "name 'perf_counter' is not defined",
     "output_type": "error",
     "traceback": [
      "\u001b[0;31m---------------------------------------------------------------------------\u001b[0m",
      "\u001b[0;31mNameError\u001b[0m                                 Traceback (most recent call last)",
      "Cell \u001b[0;32mIn[1], line 10\u001b[0m\n\u001b[1;32m      8\u001b[0m \u001b[39mif\u001b[39;00m \u001b[39m__name__\u001b[39m \u001b[39m==\u001b[39m \u001b[39m'\u001b[39m\u001b[39m__main__\u001b[39m\u001b[39m'\u001b[39m:\n\u001b[1;32m      9\u001b[0m     multiprocessing\u001b[39m.\u001b[39mfreeze_support()\n\u001b[0;32m---> 10\u001b[0m     start \u001b[39m=\u001b[39m perf_counter()\n\u001b[1;32m     11\u001b[0m     p1 \u001b[39m=\u001b[39m multiprocessing\u001b[39m.\u001b[39mProcess(target\u001b[39m=\u001b[39mtask3)\n\u001b[1;32m     12\u001b[0m     p2 \u001b[39m=\u001b[39m multiprocessing\u001b[39m.\u001b[39mProcess(target\u001b[39m=\u001b[39mtask3)\n",
      "\u001b[0;31mNameError\u001b[0m: name 'perf_counter' is not defined"
     ]
    }
   ],
   "source": [
    "import time\n",
    "import multiprocessing\n",
    "\n",
    "def task3(n = 100_000_000):\n",
    "    while n >= 0:\n",
    "        n -= 1\n",
    "        \n",
    "if __name__ == '__main__':\n",
    "    multiprocessing.freeze_support()\n",
    "    start = perf_counter()\n",
    "    p1 = multiprocessing.Process(target=task3)\n",
    "    p2 = multiprocessing.Process(target=task3)\n",
    "    p1.start()\n",
    "    p2.start()\n",
    "    p1.join()\n",
    "    p2.join()\n",
    "    end = perf_counter() \n",
    "    print(end - start)"
   ]
  },
  {
   "cell_type": "code",
   "execution_count": 51,
   "id": "85c6ce93",
   "metadata": {},
   "outputs": [
    {
     "name": "stdout",
     "output_type": "stream",
     "text": [
      "0.10633970899971246\n"
     ]
    },
    {
     "name": "stderr",
     "output_type": "stream",
     "text": [
      "Process SpawnProcess-15:\n",
      "Traceback (most recent call last):\n",
      "  File \"/Users/mgordenko/opt/anaconda3/lib/python3.9/multiprocessing/process.py\", line 315, in _bootstrap\n",
      "    self.run()\n",
      "  File \"/Users/mgordenko/opt/anaconda3/lib/python3.9/multiprocessing/process.py\", line 108, in run\n",
      "    self._target(*self._args, **self._kwargs)\n",
      "  File \"/Users/mgordenko/opt/anaconda3/lib/python3.9/concurrent/futures/process.py\", line 237, in _process_worker\n",
      "    call_item = call_queue.get(block=True)\n",
      "  File \"/Users/mgordenko/opt/anaconda3/lib/python3.9/multiprocessing/queues.py\", line 122, in get\n",
      "    return _ForkingPickler.loads(res)\n",
      "AttributeError: Can't get attribute 'task3' on <module '__main__' (built-in)>\n"
     ]
    }
   ],
   "source": [
    "import time\n",
    "from concurrent.futures import ProcessPoolExecutor\n",
    "import multiprocessing\n",
    "\n",
    "def task3(n = 100_000_000):\n",
    "    while n >= 0:\n",
    "        n -= 1\n",
    "        \n",
    "start = perf_counter()\n",
    "with ProcessPoolExecutor() as executor:\n",
    "    executor.submit(task3)\n",
    "    executor.submit(task3)\n",
    "end = perf_counter() \n",
    "print(end - start)"
   ]
  },
  {
   "cell_type": "code",
   "execution_count": null,
   "id": "951469cf",
   "metadata": {},
   "outputs": [],
   "source": []
  }
 ],
 "metadata": {
  "kernelspec": {
   "display_name": "Python 3 (ipykernel)",
   "language": "python",
   "name": "python3"
  },
  "language_info": {
   "codemirror_mode": {
    "name": "ipython",
    "version": 3
   },
   "file_extension": ".py",
   "mimetype": "text/x-python",
   "name": "python",
   "nbconvert_exporter": "python",
   "pygments_lexer": "ipython3",
   "version": "3.10.6"
  }
 },
 "nbformat": 4,
 "nbformat_minor": 5
}
